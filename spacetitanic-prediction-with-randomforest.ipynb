{
 "cells": [
  {
   "cell_type": "code",
   "execution_count": 1,
   "id": "4eab2932",
   "metadata": {
    "_cell_guid": "b1076dfc-b9ad-4769-8c92-a6c4dae69d19",
    "_uuid": "8f2839f25d086af736a60e9eeb907d3b93b6e0e5",
    "execution": {
     "iopub.execute_input": "2023-07-09T10:20:07.747817Z",
     "iopub.status.busy": "2023-07-09T10:20:07.747427Z",
     "iopub.status.idle": "2023-07-09T10:20:07.761989Z",
     "shell.execute_reply": "2023-07-09T10:20:07.760844Z"
    },
    "papermill": {
     "duration": 0.03604,
     "end_time": "2023-07-09T10:20:07.764473",
     "exception": false,
     "start_time": "2023-07-09T10:20:07.728433",
     "status": "completed"
    },
    "tags": []
   },
   "outputs": [
    {
     "name": "stdout",
     "output_type": "stream",
     "text": [
      "/kaggle/input/spaceship-titanic/sample_submission.csv\n",
      "/kaggle/input/spaceship-titanic/train.csv\n",
      "/kaggle/input/spaceship-titanic/test.csv\n"
     ]
    }
   ],
   "source": [
    "\n",
    "import os\n",
    "for dirname, _, filenames in os.walk('/kaggle/input'):\n",
    "    for filename in filenames:\n",
    "        print(os.path.join(dirname, filename))"
   ]
  },
  {
   "cell_type": "code",
   "execution_count": 2,
   "id": "4dfc9361",
   "metadata": {
    "execution": {
     "iopub.execute_input": "2023-07-09T10:20:07.800819Z",
     "iopub.status.busy": "2023-07-09T10:20:07.800180Z",
     "iopub.status.idle": "2023-07-09T10:20:10.087503Z",
     "shell.execute_reply": "2023-07-09T10:20:10.086242Z"
    },
    "papermill": {
     "duration": 2.308994,
     "end_time": "2023-07-09T10:20:10.090510",
     "exception": false,
     "start_time": "2023-07-09T10:20:07.781516",
     "status": "completed"
    },
    "tags": []
   },
   "outputs": [],
   "source": [
    "import pandas as pd\n",
    "import matplotlib.pyplot as plt\n",
    "import seaborn as sns\n",
    "%matplotlib inline\n",
    "from sklearn.ensemble import RandomForestClassifier\n",
    "from sklearn.model_selection import train_test_split\n",
    "from sklearn.metrics import ConfusionMatrixDisplay,confusion_matrix"
   ]
  },
  {
   "cell_type": "code",
   "execution_count": 3,
   "id": "5ecab815",
   "metadata": {
    "execution": {
     "iopub.execute_input": "2023-07-09T10:20:10.126514Z",
     "iopub.status.busy": "2023-07-09T10:20:10.126061Z",
     "iopub.status.idle": "2023-07-09T10:20:10.233137Z",
     "shell.execute_reply": "2023-07-09T10:20:10.231828Z"
    },
    "papermill": {
     "duration": 0.128517,
     "end_time": "2023-07-09T10:20:10.236180",
     "exception": false,
     "start_time": "2023-07-09T10:20:10.107663",
     "status": "completed"
    },
    "tags": []
   },
   "outputs": [],
   "source": [
    "train_data = pd.read_csv(\"/kaggle/input/spaceship-titanic/train.csv\") \n",
    "test_data= pd.read_csv(\"/kaggle/input/spaceship-titanic/test.csv\") "
   ]
  },
  {
   "cell_type": "code",
   "execution_count": 4,
   "id": "b35e6821",
   "metadata": {
    "execution": {
     "iopub.execute_input": "2023-07-09T10:20:10.272338Z",
     "iopub.status.busy": "2023-07-09T10:20:10.271589Z",
     "iopub.status.idle": "2023-07-09T10:20:10.313736Z",
     "shell.execute_reply": "2023-07-09T10:20:10.312590Z"
    },
    "papermill": {
     "duration": 0.063312,
     "end_time": "2023-07-09T10:20:10.316363",
     "exception": false,
     "start_time": "2023-07-09T10:20:10.253051",
     "status": "completed"
    },
    "tags": []
   },
   "outputs": [
    {
     "data": {
      "text/html": [
       "<div>\n",
       "<style scoped>\n",
       "    .dataframe tbody tr th:only-of-type {\n",
       "        vertical-align: middle;\n",
       "    }\n",
       "\n",
       "    .dataframe tbody tr th {\n",
       "        vertical-align: top;\n",
       "    }\n",
       "\n",
       "    .dataframe thead th {\n",
       "        text-align: right;\n",
       "    }\n",
       "</style>\n",
       "<table border=\"1\" class=\"dataframe\">\n",
       "  <thead>\n",
       "    <tr style=\"text-align: right;\">\n",
       "      <th></th>\n",
       "      <th>PassengerId</th>\n",
       "      <th>HomePlanet</th>\n",
       "      <th>CryoSleep</th>\n",
       "      <th>Cabin</th>\n",
       "      <th>Destination</th>\n",
       "      <th>Age</th>\n",
       "      <th>VIP</th>\n",
       "      <th>RoomService</th>\n",
       "      <th>FoodCourt</th>\n",
       "      <th>ShoppingMall</th>\n",
       "      <th>Spa</th>\n",
       "      <th>VRDeck</th>\n",
       "      <th>Name</th>\n",
       "      <th>Transported</th>\n",
       "    </tr>\n",
       "  </thead>\n",
       "  <tbody>\n",
       "    <tr>\n",
       "      <th>0</th>\n",
       "      <td>0001_01</td>\n",
       "      <td>Europa</td>\n",
       "      <td>False</td>\n",
       "      <td>B/0/P</td>\n",
       "      <td>TRAPPIST-1e</td>\n",
       "      <td>39.0</td>\n",
       "      <td>False</td>\n",
       "      <td>0.0</td>\n",
       "      <td>0.0</td>\n",
       "      <td>0.0</td>\n",
       "      <td>0.0</td>\n",
       "      <td>0.0</td>\n",
       "      <td>Maham Ofracculy</td>\n",
       "      <td>False</td>\n",
       "    </tr>\n",
       "    <tr>\n",
       "      <th>1</th>\n",
       "      <td>0002_01</td>\n",
       "      <td>Earth</td>\n",
       "      <td>False</td>\n",
       "      <td>F/0/S</td>\n",
       "      <td>TRAPPIST-1e</td>\n",
       "      <td>24.0</td>\n",
       "      <td>False</td>\n",
       "      <td>109.0</td>\n",
       "      <td>9.0</td>\n",
       "      <td>25.0</td>\n",
       "      <td>549.0</td>\n",
       "      <td>44.0</td>\n",
       "      <td>Juanna Vines</td>\n",
       "      <td>True</td>\n",
       "    </tr>\n",
       "    <tr>\n",
       "      <th>2</th>\n",
       "      <td>0003_01</td>\n",
       "      <td>Europa</td>\n",
       "      <td>False</td>\n",
       "      <td>A/0/S</td>\n",
       "      <td>TRAPPIST-1e</td>\n",
       "      <td>58.0</td>\n",
       "      <td>True</td>\n",
       "      <td>43.0</td>\n",
       "      <td>3576.0</td>\n",
       "      <td>0.0</td>\n",
       "      <td>6715.0</td>\n",
       "      <td>49.0</td>\n",
       "      <td>Altark Susent</td>\n",
       "      <td>False</td>\n",
       "    </tr>\n",
       "    <tr>\n",
       "      <th>3</th>\n",
       "      <td>0003_02</td>\n",
       "      <td>Europa</td>\n",
       "      <td>False</td>\n",
       "      <td>A/0/S</td>\n",
       "      <td>TRAPPIST-1e</td>\n",
       "      <td>33.0</td>\n",
       "      <td>False</td>\n",
       "      <td>0.0</td>\n",
       "      <td>1283.0</td>\n",
       "      <td>371.0</td>\n",
       "      <td>3329.0</td>\n",
       "      <td>193.0</td>\n",
       "      <td>Solam Susent</td>\n",
       "      <td>False</td>\n",
       "    </tr>\n",
       "    <tr>\n",
       "      <th>4</th>\n",
       "      <td>0004_01</td>\n",
       "      <td>Earth</td>\n",
       "      <td>False</td>\n",
       "      <td>F/1/S</td>\n",
       "      <td>TRAPPIST-1e</td>\n",
       "      <td>16.0</td>\n",
       "      <td>False</td>\n",
       "      <td>303.0</td>\n",
       "      <td>70.0</td>\n",
       "      <td>151.0</td>\n",
       "      <td>565.0</td>\n",
       "      <td>2.0</td>\n",
       "      <td>Willy Santantines</td>\n",
       "      <td>True</td>\n",
       "    </tr>\n",
       "  </tbody>\n",
       "</table>\n",
       "</div>"
      ],
      "text/plain": [
       "  PassengerId HomePlanet CryoSleep  Cabin  Destination   Age    VIP  \\\n",
       "0     0001_01     Europa     False  B/0/P  TRAPPIST-1e  39.0  False   \n",
       "1     0002_01      Earth     False  F/0/S  TRAPPIST-1e  24.0  False   \n",
       "2     0003_01     Europa     False  A/0/S  TRAPPIST-1e  58.0   True   \n",
       "3     0003_02     Europa     False  A/0/S  TRAPPIST-1e  33.0  False   \n",
       "4     0004_01      Earth     False  F/1/S  TRAPPIST-1e  16.0  False   \n",
       "\n",
       "   RoomService  FoodCourt  ShoppingMall     Spa  VRDeck               Name  \\\n",
       "0          0.0        0.0           0.0     0.0     0.0    Maham Ofracculy   \n",
       "1        109.0        9.0          25.0   549.0    44.0       Juanna Vines   \n",
       "2         43.0     3576.0           0.0  6715.0    49.0      Altark Susent   \n",
       "3          0.0     1283.0         371.0  3329.0   193.0       Solam Susent   \n",
       "4        303.0       70.0         151.0   565.0     2.0  Willy Santantines   \n",
       "\n",
       "   Transported  \n",
       "0        False  \n",
       "1         True  \n",
       "2        False  \n",
       "3        False  \n",
       "4         True  "
      ]
     },
     "execution_count": 4,
     "metadata": {},
     "output_type": "execute_result"
    }
   ],
   "source": [
    "train_data.head()"
   ]
  },
  {
   "cell_type": "code",
   "execution_count": 5,
   "id": "6255cf53",
   "metadata": {
    "execution": {
     "iopub.execute_input": "2023-07-09T10:20:10.353095Z",
     "iopub.status.busy": "2023-07-09T10:20:10.352385Z",
     "iopub.status.idle": "2023-07-09T10:20:10.359908Z",
     "shell.execute_reply": "2023-07-09T10:20:10.358769Z"
    },
    "papermill": {
     "duration": 0.028628,
     "end_time": "2023-07-09T10:20:10.362143",
     "exception": false,
     "start_time": "2023-07-09T10:20:10.333515",
     "status": "completed"
    },
    "tags": []
   },
   "outputs": [
    {
     "data": {
      "text/plain": [
       "Index(['PassengerId', 'HomePlanet', 'CryoSleep', 'Cabin', 'Destination', 'Age',\n",
       "       'VIP', 'RoomService', 'FoodCourt', 'ShoppingMall', 'Spa', 'VRDeck',\n",
       "       'Name', 'Transported'],\n",
       "      dtype='object')"
      ]
     },
     "execution_count": 5,
     "metadata": {},
     "output_type": "execute_result"
    }
   ],
   "source": [
    "train_data.columns"
   ]
  },
  {
   "cell_type": "code",
   "execution_count": 6,
   "id": "e8b8196b",
   "metadata": {
    "execution": {
     "iopub.execute_input": "2023-07-09T10:20:10.399637Z",
     "iopub.status.busy": "2023-07-09T10:20:10.398993Z",
     "iopub.status.idle": "2023-07-09T10:20:10.420954Z",
     "shell.execute_reply": "2023-07-09T10:20:10.419789Z"
    },
    "papermill": {
     "duration": 0.043763,
     "end_time": "2023-07-09T10:20:10.423820",
     "exception": false,
     "start_time": "2023-07-09T10:20:10.380057",
     "status": "completed"
    },
    "tags": []
   },
   "outputs": [
    {
     "data": {
      "text/plain": [
       "<bound method DataFrame.info of      PassengerId HomePlanet CryoSleep     Cabin    Destination   Age    VIP  \\\n",
       "0        0001_01     Europa     False     B/0/P    TRAPPIST-1e  39.0  False   \n",
       "1        0002_01      Earth     False     F/0/S    TRAPPIST-1e  24.0  False   \n",
       "2        0003_01     Europa     False     A/0/S    TRAPPIST-1e  58.0   True   \n",
       "3        0003_02     Europa     False     A/0/S    TRAPPIST-1e  33.0  False   \n",
       "4        0004_01      Earth     False     F/1/S    TRAPPIST-1e  16.0  False   \n",
       "...          ...        ...       ...       ...            ...   ...    ...   \n",
       "8688     9276_01     Europa     False    A/98/P    55 Cancri e  41.0   True   \n",
       "8689     9278_01      Earth      True  G/1499/S  PSO J318.5-22  18.0  False   \n",
       "8690     9279_01      Earth     False  G/1500/S    TRAPPIST-1e  26.0  False   \n",
       "8691     9280_01     Europa     False   E/608/S    55 Cancri e  32.0  False   \n",
       "8692     9280_02     Europa     False   E/608/S    TRAPPIST-1e  44.0  False   \n",
       "\n",
       "      RoomService  FoodCourt  ShoppingMall     Spa  VRDeck               Name  \\\n",
       "0             0.0        0.0           0.0     0.0     0.0    Maham Ofracculy   \n",
       "1           109.0        9.0          25.0   549.0    44.0       Juanna Vines   \n",
       "2            43.0     3576.0           0.0  6715.0    49.0      Altark Susent   \n",
       "3             0.0     1283.0         371.0  3329.0   193.0       Solam Susent   \n",
       "4           303.0       70.0         151.0   565.0     2.0  Willy Santantines   \n",
       "...           ...        ...           ...     ...     ...                ...   \n",
       "8688          0.0     6819.0           0.0  1643.0    74.0  Gravior Noxnuther   \n",
       "8689          0.0        0.0           0.0     0.0     0.0    Kurta Mondalley   \n",
       "8690          0.0        0.0        1872.0     1.0     0.0       Fayey Connon   \n",
       "8691          0.0     1049.0           0.0   353.0  3235.0   Celeon Hontichre   \n",
       "8692        126.0     4688.0           0.0     0.0    12.0   Propsh Hontichre   \n",
       "\n",
       "      Transported  \n",
       "0           False  \n",
       "1            True  \n",
       "2           False  \n",
       "3           False  \n",
       "4            True  \n",
       "...           ...  \n",
       "8688        False  \n",
       "8689        False  \n",
       "8690         True  \n",
       "8691        False  \n",
       "8692         True  \n",
       "\n",
       "[8693 rows x 14 columns]>"
      ]
     },
     "execution_count": 6,
     "metadata": {},
     "output_type": "execute_result"
    }
   ],
   "source": [
    "train_data.info"
   ]
  },
  {
   "cell_type": "code",
   "execution_count": 7,
   "id": "6ad55fa2",
   "metadata": {
    "execution": {
     "iopub.execute_input": "2023-07-09T10:20:10.461300Z",
     "iopub.status.busy": "2023-07-09T10:20:10.460903Z",
     "iopub.status.idle": "2023-07-09T10:20:10.479842Z",
     "shell.execute_reply": "2023-07-09T10:20:10.478927Z"
    },
    "papermill": {
     "duration": 0.040693,
     "end_time": "2023-07-09T10:20:10.482086",
     "exception": false,
     "start_time": "2023-07-09T10:20:10.441393",
     "status": "completed"
    },
    "tags": []
   },
   "outputs": [
    {
     "data": {
      "text/plain": [
       "<bound method NDFrame.describe of      PassengerId HomePlanet CryoSleep     Cabin    Destination   Age    VIP  \\\n",
       "0        0001_01     Europa     False     B/0/P    TRAPPIST-1e  39.0  False   \n",
       "1        0002_01      Earth     False     F/0/S    TRAPPIST-1e  24.0  False   \n",
       "2        0003_01     Europa     False     A/0/S    TRAPPIST-1e  58.0   True   \n",
       "3        0003_02     Europa     False     A/0/S    TRAPPIST-1e  33.0  False   \n",
       "4        0004_01      Earth     False     F/1/S    TRAPPIST-1e  16.0  False   \n",
       "...          ...        ...       ...       ...            ...   ...    ...   \n",
       "8688     9276_01     Europa     False    A/98/P    55 Cancri e  41.0   True   \n",
       "8689     9278_01      Earth      True  G/1499/S  PSO J318.5-22  18.0  False   \n",
       "8690     9279_01      Earth     False  G/1500/S    TRAPPIST-1e  26.0  False   \n",
       "8691     9280_01     Europa     False   E/608/S    55 Cancri e  32.0  False   \n",
       "8692     9280_02     Europa     False   E/608/S    TRAPPIST-1e  44.0  False   \n",
       "\n",
       "      RoomService  FoodCourt  ShoppingMall     Spa  VRDeck               Name  \\\n",
       "0             0.0        0.0           0.0     0.0     0.0    Maham Ofracculy   \n",
       "1           109.0        9.0          25.0   549.0    44.0       Juanna Vines   \n",
       "2            43.0     3576.0           0.0  6715.0    49.0      Altark Susent   \n",
       "3             0.0     1283.0         371.0  3329.0   193.0       Solam Susent   \n",
       "4           303.0       70.0         151.0   565.0     2.0  Willy Santantines   \n",
       "...           ...        ...           ...     ...     ...                ...   \n",
       "8688          0.0     6819.0           0.0  1643.0    74.0  Gravior Noxnuther   \n",
       "8689          0.0        0.0           0.0     0.0     0.0    Kurta Mondalley   \n",
       "8690          0.0        0.0        1872.0     1.0     0.0       Fayey Connon   \n",
       "8691          0.0     1049.0           0.0   353.0  3235.0   Celeon Hontichre   \n",
       "8692        126.0     4688.0           0.0     0.0    12.0   Propsh Hontichre   \n",
       "\n",
       "      Transported  \n",
       "0           False  \n",
       "1            True  \n",
       "2           False  \n",
       "3           False  \n",
       "4            True  \n",
       "...           ...  \n",
       "8688        False  \n",
       "8689        False  \n",
       "8690         True  \n",
       "8691        False  \n",
       "8692         True  \n",
       "\n",
       "[8693 rows x 14 columns]>"
      ]
     },
     "execution_count": 7,
     "metadata": {},
     "output_type": "execute_result"
    }
   ],
   "source": [
    "train_data.describe"
   ]
  },
  {
   "cell_type": "code",
   "execution_count": 8,
   "id": "e7c926b6",
   "metadata": {
    "execution": {
     "iopub.execute_input": "2023-07-09T10:20:10.520231Z",
     "iopub.status.busy": "2023-07-09T10:20:10.519537Z",
     "iopub.status.idle": "2023-07-09T10:20:10.547800Z",
     "shell.execute_reply": "2023-07-09T10:20:10.546745Z"
    },
    "papermill": {
     "duration": 0.050399,
     "end_time": "2023-07-09T10:20:10.550354",
     "exception": false,
     "start_time": "2023-07-09T10:20:10.499955",
     "status": "completed"
    },
    "tags": []
   },
   "outputs": [
    {
     "data": {
      "text/plain": [
       "PassengerId       0\n",
       "HomePlanet      201\n",
       "CryoSleep       217\n",
       "Cabin           199\n",
       "Destination     182\n",
       "Age             179\n",
       "VIP             203\n",
       "RoomService     181\n",
       "FoodCourt       183\n",
       "ShoppingMall    208\n",
       "Spa             183\n",
       "VRDeck          188\n",
       "Name            200\n",
       "Transported       0\n",
       "dtype: int64"
      ]
     },
     "execution_count": 8,
     "metadata": {},
     "output_type": "execute_result"
    }
   ],
   "source": [
    "train_data.isnull().sum()"
   ]
  },
  {
   "cell_type": "code",
   "execution_count": 9,
   "id": "09fb968c",
   "metadata": {
    "execution": {
     "iopub.execute_input": "2023-07-09T10:20:10.588288Z",
     "iopub.status.busy": "2023-07-09T10:20:10.587580Z",
     "iopub.status.idle": "2023-07-09T10:20:10.595476Z",
     "shell.execute_reply": "2023-07-09T10:20:10.594555Z"
    },
    "papermill": {
     "duration": 0.02987,
     "end_time": "2023-07-09T10:20:10.598273",
     "exception": false,
     "start_time": "2023-07-09T10:20:10.568403",
     "status": "completed"
    },
    "tags": []
   },
   "outputs": [],
   "source": [
    "train_data['totalexpense']=train_data['RoomService']+train_data['FoodCourt']+train_data['ShoppingMall']+train_data['Spa']+train_data['VRDeck']"
   ]
  },
  {
   "cell_type": "code",
   "execution_count": 10,
   "id": "4659b072",
   "metadata": {
    "execution": {
     "iopub.execute_input": "2023-07-09T10:20:10.637116Z",
     "iopub.status.busy": "2023-07-09T10:20:10.636168Z",
     "iopub.status.idle": "2023-07-09T10:20:10.659293Z",
     "shell.execute_reply": "2023-07-09T10:20:10.658132Z"
    },
    "papermill": {
     "duration": 0.044998,
     "end_time": "2023-07-09T10:20:10.661714",
     "exception": false,
     "start_time": "2023-07-09T10:20:10.616716",
     "status": "completed"
    },
    "tags": []
   },
   "outputs": [
    {
     "data": {
      "text/html": [
       "<div>\n",
       "<style scoped>\n",
       "    .dataframe tbody tr th:only-of-type {\n",
       "        vertical-align: middle;\n",
       "    }\n",
       "\n",
       "    .dataframe tbody tr th {\n",
       "        vertical-align: top;\n",
       "    }\n",
       "\n",
       "    .dataframe thead th {\n",
       "        text-align: right;\n",
       "    }\n",
       "</style>\n",
       "<table border=\"1\" class=\"dataframe\">\n",
       "  <thead>\n",
       "    <tr style=\"text-align: right;\">\n",
       "      <th></th>\n",
       "      <th>PassengerId</th>\n",
       "      <th>HomePlanet</th>\n",
       "      <th>CryoSleep</th>\n",
       "      <th>Cabin</th>\n",
       "      <th>Destination</th>\n",
       "      <th>Age</th>\n",
       "      <th>VIP</th>\n",
       "      <th>RoomService</th>\n",
       "      <th>FoodCourt</th>\n",
       "      <th>ShoppingMall</th>\n",
       "      <th>Spa</th>\n",
       "      <th>VRDeck</th>\n",
       "      <th>Name</th>\n",
       "      <th>Transported</th>\n",
       "      <th>totalexpense</th>\n",
       "    </tr>\n",
       "  </thead>\n",
       "  <tbody>\n",
       "    <tr>\n",
       "      <th>0</th>\n",
       "      <td>0001_01</td>\n",
       "      <td>Europa</td>\n",
       "      <td>False</td>\n",
       "      <td>B/0/P</td>\n",
       "      <td>TRAPPIST-1e</td>\n",
       "      <td>39.0</td>\n",
       "      <td>False</td>\n",
       "      <td>0.0</td>\n",
       "      <td>0.0</td>\n",
       "      <td>0.0</td>\n",
       "      <td>0.0</td>\n",
       "      <td>0.0</td>\n",
       "      <td>Maham Ofracculy</td>\n",
       "      <td>False</td>\n",
       "      <td>0.0</td>\n",
       "    </tr>\n",
       "    <tr>\n",
       "      <th>1</th>\n",
       "      <td>0002_01</td>\n",
       "      <td>Earth</td>\n",
       "      <td>False</td>\n",
       "      <td>F/0/S</td>\n",
       "      <td>TRAPPIST-1e</td>\n",
       "      <td>24.0</td>\n",
       "      <td>False</td>\n",
       "      <td>109.0</td>\n",
       "      <td>9.0</td>\n",
       "      <td>25.0</td>\n",
       "      <td>549.0</td>\n",
       "      <td>44.0</td>\n",
       "      <td>Juanna Vines</td>\n",
       "      <td>True</td>\n",
       "      <td>736.0</td>\n",
       "    </tr>\n",
       "    <tr>\n",
       "      <th>2</th>\n",
       "      <td>0003_01</td>\n",
       "      <td>Europa</td>\n",
       "      <td>False</td>\n",
       "      <td>A/0/S</td>\n",
       "      <td>TRAPPIST-1e</td>\n",
       "      <td>58.0</td>\n",
       "      <td>True</td>\n",
       "      <td>43.0</td>\n",
       "      <td>3576.0</td>\n",
       "      <td>0.0</td>\n",
       "      <td>6715.0</td>\n",
       "      <td>49.0</td>\n",
       "      <td>Altark Susent</td>\n",
       "      <td>False</td>\n",
       "      <td>10383.0</td>\n",
       "    </tr>\n",
       "    <tr>\n",
       "      <th>3</th>\n",
       "      <td>0003_02</td>\n",
       "      <td>Europa</td>\n",
       "      <td>False</td>\n",
       "      <td>A/0/S</td>\n",
       "      <td>TRAPPIST-1e</td>\n",
       "      <td>33.0</td>\n",
       "      <td>False</td>\n",
       "      <td>0.0</td>\n",
       "      <td>1283.0</td>\n",
       "      <td>371.0</td>\n",
       "      <td>3329.0</td>\n",
       "      <td>193.0</td>\n",
       "      <td>Solam Susent</td>\n",
       "      <td>False</td>\n",
       "      <td>5176.0</td>\n",
       "    </tr>\n",
       "    <tr>\n",
       "      <th>4</th>\n",
       "      <td>0004_01</td>\n",
       "      <td>Earth</td>\n",
       "      <td>False</td>\n",
       "      <td>F/1/S</td>\n",
       "      <td>TRAPPIST-1e</td>\n",
       "      <td>16.0</td>\n",
       "      <td>False</td>\n",
       "      <td>303.0</td>\n",
       "      <td>70.0</td>\n",
       "      <td>151.0</td>\n",
       "      <td>565.0</td>\n",
       "      <td>2.0</td>\n",
       "      <td>Willy Santantines</td>\n",
       "      <td>True</td>\n",
       "      <td>1091.0</td>\n",
       "    </tr>\n",
       "  </tbody>\n",
       "</table>\n",
       "</div>"
      ],
      "text/plain": [
       "  PassengerId HomePlanet CryoSleep  Cabin  Destination   Age    VIP  \\\n",
       "0     0001_01     Europa     False  B/0/P  TRAPPIST-1e  39.0  False   \n",
       "1     0002_01      Earth     False  F/0/S  TRAPPIST-1e  24.0  False   \n",
       "2     0003_01     Europa     False  A/0/S  TRAPPIST-1e  58.0   True   \n",
       "3     0003_02     Europa     False  A/0/S  TRAPPIST-1e  33.0  False   \n",
       "4     0004_01      Earth     False  F/1/S  TRAPPIST-1e  16.0  False   \n",
       "\n",
       "   RoomService  FoodCourt  ShoppingMall     Spa  VRDeck               Name  \\\n",
       "0          0.0        0.0           0.0     0.0     0.0    Maham Ofracculy   \n",
       "1        109.0        9.0          25.0   549.0    44.0       Juanna Vines   \n",
       "2         43.0     3576.0           0.0  6715.0    49.0      Altark Susent   \n",
       "3          0.0     1283.0         371.0  3329.0   193.0       Solam Susent   \n",
       "4        303.0       70.0         151.0   565.0     2.0  Willy Santantines   \n",
       "\n",
       "   Transported  totalexpense  \n",
       "0        False           0.0  \n",
       "1         True         736.0  \n",
       "2        False       10383.0  \n",
       "3        False        5176.0  \n",
       "4         True        1091.0  "
      ]
     },
     "execution_count": 10,
     "metadata": {},
     "output_type": "execute_result"
    }
   ],
   "source": [
    "train_data.head()"
   ]
  },
  {
   "cell_type": "code",
   "execution_count": 11,
   "id": "93b3373b",
   "metadata": {
    "execution": {
     "iopub.execute_input": "2023-07-09T10:20:10.700391Z",
     "iopub.status.busy": "2023-07-09T10:20:10.699791Z",
     "iopub.status.idle": "2023-07-09T10:20:10.710893Z",
     "shell.execute_reply": "2023-07-09T10:20:10.709815Z"
    },
    "papermill": {
     "duration": 0.033602,
     "end_time": "2023-07-09T10:20:10.713604",
     "exception": false,
     "start_time": "2023-07-09T10:20:10.680002",
     "status": "completed"
    },
    "tags": []
   },
   "outputs": [],
   "source": [
    "train_dataset=train_data.copy()\n",
    "train_dataset=train_dataset.drop(['RoomService','FoodCourt','ShoppingMall','Spa','VRDeck'],axis=1)"
   ]
  },
  {
   "cell_type": "code",
   "execution_count": 12,
   "id": "15c68b20",
   "metadata": {
    "execution": {
     "iopub.execute_input": "2023-07-09T10:20:10.751795Z",
     "iopub.status.busy": "2023-07-09T10:20:10.751415Z",
     "iopub.status.idle": "2023-07-09T10:20:10.768021Z",
     "shell.execute_reply": "2023-07-09T10:20:10.767242Z"
    },
    "papermill": {
     "duration": 0.038472,
     "end_time": "2023-07-09T10:20:10.770192",
     "exception": false,
     "start_time": "2023-07-09T10:20:10.731720",
     "status": "completed"
    },
    "tags": []
   },
   "outputs": [
    {
     "data": {
      "text/html": [
       "<div>\n",
       "<style scoped>\n",
       "    .dataframe tbody tr th:only-of-type {\n",
       "        vertical-align: middle;\n",
       "    }\n",
       "\n",
       "    .dataframe tbody tr th {\n",
       "        vertical-align: top;\n",
       "    }\n",
       "\n",
       "    .dataframe thead th {\n",
       "        text-align: right;\n",
       "    }\n",
       "</style>\n",
       "<table border=\"1\" class=\"dataframe\">\n",
       "  <thead>\n",
       "    <tr style=\"text-align: right;\">\n",
       "      <th></th>\n",
       "      <th>PassengerId</th>\n",
       "      <th>HomePlanet</th>\n",
       "      <th>CryoSleep</th>\n",
       "      <th>Cabin</th>\n",
       "      <th>Destination</th>\n",
       "      <th>Age</th>\n",
       "      <th>VIP</th>\n",
       "      <th>Name</th>\n",
       "      <th>Transported</th>\n",
       "      <th>totalexpense</th>\n",
       "    </tr>\n",
       "  </thead>\n",
       "  <tbody>\n",
       "    <tr>\n",
       "      <th>0</th>\n",
       "      <td>0001_01</td>\n",
       "      <td>Europa</td>\n",
       "      <td>False</td>\n",
       "      <td>B/0/P</td>\n",
       "      <td>TRAPPIST-1e</td>\n",
       "      <td>39.0</td>\n",
       "      <td>False</td>\n",
       "      <td>Maham Ofracculy</td>\n",
       "      <td>False</td>\n",
       "      <td>0.0</td>\n",
       "    </tr>\n",
       "    <tr>\n",
       "      <th>1</th>\n",
       "      <td>0002_01</td>\n",
       "      <td>Earth</td>\n",
       "      <td>False</td>\n",
       "      <td>F/0/S</td>\n",
       "      <td>TRAPPIST-1e</td>\n",
       "      <td>24.0</td>\n",
       "      <td>False</td>\n",
       "      <td>Juanna Vines</td>\n",
       "      <td>True</td>\n",
       "      <td>736.0</td>\n",
       "    </tr>\n",
       "    <tr>\n",
       "      <th>2</th>\n",
       "      <td>0003_01</td>\n",
       "      <td>Europa</td>\n",
       "      <td>False</td>\n",
       "      <td>A/0/S</td>\n",
       "      <td>TRAPPIST-1e</td>\n",
       "      <td>58.0</td>\n",
       "      <td>True</td>\n",
       "      <td>Altark Susent</td>\n",
       "      <td>False</td>\n",
       "      <td>10383.0</td>\n",
       "    </tr>\n",
       "    <tr>\n",
       "      <th>3</th>\n",
       "      <td>0003_02</td>\n",
       "      <td>Europa</td>\n",
       "      <td>False</td>\n",
       "      <td>A/0/S</td>\n",
       "      <td>TRAPPIST-1e</td>\n",
       "      <td>33.0</td>\n",
       "      <td>False</td>\n",
       "      <td>Solam Susent</td>\n",
       "      <td>False</td>\n",
       "      <td>5176.0</td>\n",
       "    </tr>\n",
       "    <tr>\n",
       "      <th>4</th>\n",
       "      <td>0004_01</td>\n",
       "      <td>Earth</td>\n",
       "      <td>False</td>\n",
       "      <td>F/1/S</td>\n",
       "      <td>TRAPPIST-1e</td>\n",
       "      <td>16.0</td>\n",
       "      <td>False</td>\n",
       "      <td>Willy Santantines</td>\n",
       "      <td>True</td>\n",
       "      <td>1091.0</td>\n",
       "    </tr>\n",
       "  </tbody>\n",
       "</table>\n",
       "</div>"
      ],
      "text/plain": [
       "  PassengerId HomePlanet CryoSleep  Cabin  Destination   Age    VIP  \\\n",
       "0     0001_01     Europa     False  B/0/P  TRAPPIST-1e  39.0  False   \n",
       "1     0002_01      Earth     False  F/0/S  TRAPPIST-1e  24.0  False   \n",
       "2     0003_01     Europa     False  A/0/S  TRAPPIST-1e  58.0   True   \n",
       "3     0003_02     Europa     False  A/0/S  TRAPPIST-1e  33.0  False   \n",
       "4     0004_01      Earth     False  F/1/S  TRAPPIST-1e  16.0  False   \n",
       "\n",
       "                Name  Transported  totalexpense  \n",
       "0    Maham Ofracculy        False           0.0  \n",
       "1       Juanna Vines         True         736.0  \n",
       "2      Altark Susent        False       10383.0  \n",
       "3       Solam Susent        False        5176.0  \n",
       "4  Willy Santantines         True        1091.0  "
      ]
     },
     "execution_count": 12,
     "metadata": {},
     "output_type": "execute_result"
    }
   ],
   "source": [
    "train_dataset.head()"
   ]
  },
  {
   "cell_type": "code",
   "execution_count": 13,
   "id": "10b3e19a",
   "metadata": {
    "execution": {
     "iopub.execute_input": "2023-07-09T10:20:10.808543Z",
     "iopub.status.busy": "2023-07-09T10:20:10.808154Z",
     "iopub.status.idle": "2023-07-09T10:20:10.827437Z",
     "shell.execute_reply": "2023-07-09T10:20:10.826215Z"
    },
    "papermill": {
     "duration": 0.041701,
     "end_time": "2023-07-09T10:20:10.830271",
     "exception": false,
     "start_time": "2023-07-09T10:20:10.788570",
     "status": "completed"
    },
    "tags": []
   },
   "outputs": [],
   "source": [
    "train_dataset['Age'].fillna(train_dataset['Age'].mean(), inplace=True)\n",
    "train_dataset['VIP'].fillna('False', inplace=True)\n",
    "train_dataset['totalexpense'].fillna(train_dataset['totalexpense'].mean(), inplace=True)\n",
    "train_dataset['Transported'].fillna('False', inplace=True)\n",
    "train_dataset['Destination'].fillna('Unknown',inplace=True)\n",
    "train_dataset['Cabin'].fillna('0', inplace=True)\n",
    "train_dataset['HomePlanet'].fillna('Unknown',inplace=True)\n",
    "train_dataset['CryoSleep'].fillna('False',inplace=True)\n",
    "train_dataset['Name'].fillna('Unknown', inplace=True)"
   ]
  },
  {
   "cell_type": "code",
   "execution_count": 14,
   "id": "b3215aeb",
   "metadata": {
    "execution": {
     "iopub.execute_input": "2023-07-09T10:20:10.869176Z",
     "iopub.status.busy": "2023-07-09T10:20:10.868456Z",
     "iopub.status.idle": "2023-07-09T10:20:10.898595Z",
     "shell.execute_reply": "2023-07-09T10:20:10.897569Z"
    },
    "papermill": {
     "duration": 0.052133,
     "end_time": "2023-07-09T10:20:10.900901",
     "exception": false,
     "start_time": "2023-07-09T10:20:10.848768",
     "status": "completed"
    },
    "tags": []
   },
   "outputs": [
    {
     "data": {
      "text/plain": [
       "PassengerId     0\n",
       "HomePlanet      0\n",
       "CryoSleep       0\n",
       "Cabin           0\n",
       "Destination     0\n",
       "Age             0\n",
       "VIP             0\n",
       "Name            0\n",
       "Transported     0\n",
       "totalexpense    0\n",
       "dtype: int64"
      ]
     },
     "execution_count": 14,
     "metadata": {},
     "output_type": "execute_result"
    }
   ],
   "source": [
    "train_dataset.isnull().sum()"
   ]
  },
  {
   "cell_type": "code",
   "execution_count": 15,
   "id": "2e3a15f5",
   "metadata": {
    "execution": {
     "iopub.execute_input": "2023-07-09T10:20:10.940151Z",
     "iopub.status.busy": "2023-07-09T10:20:10.939464Z",
     "iopub.status.idle": "2023-07-09T10:20:10.945781Z",
     "shell.execute_reply": "2023-07-09T10:20:10.945047Z"
    },
    "papermill": {
     "duration": 0.028355,
     "end_time": "2023-07-09T10:20:10.947908",
     "exception": false,
     "start_time": "2023-07-09T10:20:10.919553",
     "status": "completed"
    },
    "tags": []
   },
   "outputs": [
    {
     "data": {
      "text/plain": [
       "(8693, 10)"
      ]
     },
     "execution_count": 15,
     "metadata": {},
     "output_type": "execute_result"
    }
   ],
   "source": [
    "train_dataset.shape"
   ]
  },
  {
   "cell_type": "code",
   "execution_count": 16,
   "id": "40f97467",
   "metadata": {
    "execution": {
     "iopub.execute_input": "2023-07-09T10:20:10.987768Z",
     "iopub.status.busy": "2023-07-09T10:20:10.987008Z",
     "iopub.status.idle": "2023-07-09T10:20:10.995898Z",
     "shell.execute_reply": "2023-07-09T10:20:10.994809Z"
    },
    "papermill": {
     "duration": 0.031554,
     "end_time": "2023-07-09T10:20:10.998325",
     "exception": false,
     "start_time": "2023-07-09T10:20:10.966771",
     "status": "completed"
    },
    "tags": []
   },
   "outputs": [
    {
     "data": {
      "text/plain": [
       "PassengerId      object\n",
       "HomePlanet       object\n",
       "CryoSleep        object\n",
       "Cabin            object\n",
       "Destination      object\n",
       "Age             float64\n",
       "VIP              object\n",
       "Name             object\n",
       "Transported        bool\n",
       "totalexpense    float64\n",
       "dtype: object"
      ]
     },
     "execution_count": 16,
     "metadata": {},
     "output_type": "execute_result"
    }
   ],
   "source": [
    "train_dataset.dtypes"
   ]
  },
  {
   "cell_type": "code",
   "execution_count": 17,
   "id": "2dd83392",
   "metadata": {
    "execution": {
     "iopub.execute_input": "2023-07-09T10:20:11.042318Z",
     "iopub.status.busy": "2023-07-09T10:20:11.041914Z",
     "iopub.status.idle": "2023-07-09T10:20:11.414391Z",
     "shell.execute_reply": "2023-07-09T10:20:11.413150Z"
    },
    "papermill": {
     "duration": 0.399885,
     "end_time": "2023-07-09T10:20:11.417261",
     "exception": false,
     "start_time": "2023-07-09T10:20:11.017376",
     "status": "completed"
    },
    "tags": []
   },
   "outputs": [
    {
     "data": {
      "text/plain": [
       "<Axes: xlabel='Transported', ylabel='Age'>"
      ]
     },
     "execution_count": 17,
     "metadata": {},
     "output_type": "execute_result"
    },
    {
     "data": {
      "image/png": "[encoded data removed]",
      "text/plain": [
       "<Figure size 640x480 with 1 Axes>"
      ]
     },
     "metadata": {},
     "output_type": "display_data"
    }
   ],
   "source": [
    "sns.barplot(x=\"Transported\",y='Age',data=train_dataset,palette='YlGnBu')"
   ]
  },
  {
   "cell_type": "code",
   "execution_count": 18,
   "id": "f8d25213",
   "metadata": {
    "execution": {
     "iopub.execute_input": "2023-07-09T10:20:11.459230Z",
     "iopub.status.busy": "2023-07-09T10:20:11.458792Z",
     "iopub.status.idle": "2023-07-09T10:20:12.094957Z",
     "shell.execute_reply": "2023-07-09T10:20:12.093060Z"
    },
    "papermill": {
     "duration": 0.661194,
     "end_time": "2023-07-09T10:20:12.098112",
     "exception": false,
     "start_time": "2023-07-09T10:20:11.436918",
     "status": "completed"
    },
    "tags": []
   },
   "outputs": [
    {
     "data": {
      "text/plain": [
       "<Axes: xlabel='HomePlanet', ylabel='Age'>"
      ]
     },
     "execution_count": 18,
     "metadata": {},
     "output_type": "execute_result"
    },
    {
     "data": {
      "image/png": "[encoded data removed]",
      "text/plain": [
       "<Figure size 640x480 with 1 Axes>"
      ]
     },
     "metadata": {},
     "output_type": "display_data"
    }
   ],
   "source": [
    "sns.boxplot(y=\"Age\",x=\"HomePlanet\",data=train_dataset,hue=\"Transported\",palette=\"YlGnBu\")"
   ]
  },
  {
   "cell_type": "code",
   "execution_count": 19,
   "id": "83cc5929",
   "metadata": {
    "execution": {
     "iopub.execute_input": "2023-07-09T10:20:12.140484Z",
     "iopub.status.busy": "2023-07-09T10:20:12.140082Z",
     "iopub.status.idle": "2023-07-09T10:20:13.367193Z",
     "shell.execute_reply": "2023-07-09T10:20:13.366487Z"
    },
    "papermill": {
     "duration": 1.251667,
     "end_time": "2023-07-09T10:20:13.369742",
     "exception": false,
     "start_time": "2023-07-09T10:20:12.118075",
     "status": "completed"
    },
    "tags": []
   },
   "outputs": [
    {
     "data": {
      "text/plain": [
       "<Axes: xlabel='HomePlanet', ylabel='Age'>"
      ]
     },
     "execution_count": 19,
     "metadata": {},
     "output_type": "execute_result"
    },
    {
     "data": {
      "image/png": "[encoded data removed]",
      "text/plain": [
       "<Figure size 640x480 with 1 Axes>"
      ]
     },
     "metadata": {},
     "output_type": "display_data"
    }
   ],
   "source": [
    "sns.stripplot(y=\"Age\",x=\"HomePlanet\",data=train_dataset,hue=\"Transported\",palette=\"YlGnBu\",dodge=True)"
   ]
  },
  {
   "cell_type": "code",
   "execution_count": 20,
   "id": "7f2af8c8",
   "metadata": {
    "execution": {
     "iopub.execute_input": "2023-07-09T10:20:13.414601Z",
     "iopub.status.busy": "2023-07-09T10:20:13.414171Z",
     "iopub.status.idle": "2023-07-09T10:20:19.553483Z",
     "shell.execute_reply": "2023-07-09T10:20:19.552290Z"
    },
    "papermill": {
     "duration": 6.166505,
     "end_time": "2023-07-09T10:20:19.557201",
     "exception": false,
     "start_time": "2023-07-09T10:20:13.390696",
     "status": "completed"
    },
    "tags": []
   },
   "outputs": [
    {
     "name": "stderr",
     "output_type": "stream",
     "text": [
      "/opt/conda/lib/python3.10/site-packages/seaborn/distributions.py:1185: UserWarning: The following kwargs were not used by contour: 'shape'\n",
      "  cset = contour_func(\n"
     ]
    },
    {
     "data": {
      "text/plain": [
       "<seaborn.axisgrid.JointGrid at 0x7c54524ed0c0>"
      ]
     },
     "execution_count": 20,
     "metadata": {},
     "output_type": "execute_result"
    },
    {
     "data": {
      "image/png": "[encoded data removed]",
      "text/plain": [
       "<Figure size 600x600 with 3 Axes>"
      ]
     },
     "metadata": {},
     "output_type": "display_data"
    }
   ],
   "source": [
    "sns.jointplot(x='Age',y='Transported',data=train_dataset,kind='kde',shape=True,cmap=\"YlGnBu\")"
   ]
  },
  {
   "cell_type": "code",
   "execution_count": 21,
   "id": "94549dae",
   "metadata": {
    "execution": {
     "iopub.execute_input": "2023-07-09T10:20:19.605266Z",
     "iopub.status.busy": "2023-07-09T10:20:19.604825Z",
     "iopub.status.idle": "2023-07-09T10:20:19.609511Z",
     "shell.execute_reply": "2023-07-09T10:20:19.608379Z"
    },
    "papermill": {
     "duration": 0.032079,
     "end_time": "2023-07-09T10:20:19.612075",
     "exception": false,
     "start_time": "2023-07-09T10:20:19.579996",
     "status": "completed"
    },
    "tags": []
   },
   "outputs": [],
   "source": [
    "from sklearn.preprocessing import LabelEncoder\n",
    "le=LabelEncoder()"
   ]
  },
  {
   "cell_type": "code",
   "execution_count": 22,
   "id": "909e6eb3",
   "metadata": {
    "execution": {
     "iopub.execute_input": "2023-07-09T10:20:19.659397Z",
     "iopub.status.busy": "2023-07-09T10:20:19.659012Z",
     "iopub.status.idle": "2023-07-09T10:20:19.679751Z",
     "shell.execute_reply": "2023-07-09T10:20:19.678366Z"
    },
    "papermill": {
     "duration": 0.047693,
     "end_time": "2023-07-09T10:20:19.682542",
     "exception": false,
     "start_time": "2023-07-09T10:20:19.634849",
     "status": "completed"
    },
    "tags": []
   },
   "outputs": [],
   "source": [
    "train_dataset[['CryoSleep', 'VIP', 'Transported']] = (train_dataset[['CryoSleep', 'VIP','Transported']] == True).astype(int)\n",
    "train_dataset.HomePlanet=le.fit_transform(train_dataset.HomePlanet)\n",
    "train_dataset.VIP=le.fit_transform(train_dataset.VIP)\n",
    "train_dataset.CryoSleep=le.fit_transform(train_dataset.CryoSleep)\n"
   ]
  },
  {
   "cell_type": "code",
   "execution_count": 23,
   "id": "6c437790",
   "metadata": {
    "execution": {
     "iopub.execute_input": "2023-07-09T10:20:19.730323Z",
     "iopub.status.busy": "2023-07-09T10:20:19.729368Z",
     "iopub.status.idle": "2023-07-09T10:20:19.738874Z",
     "shell.execute_reply": "2023-07-09T10:20:19.737908Z"
    },
    "papermill": {
     "duration": 0.035657,
     "end_time": "2023-07-09T10:20:19.741023",
     "exception": false,
     "start_time": "2023-07-09T10:20:19.705366",
     "status": "completed"
    },
    "tags": []
   },
   "outputs": [],
   "source": [
    "train_dataset.Destination=le.fit_transform(train_dataset.Destination)"
   ]
  },
  {
   "cell_type": "code",
   "execution_count": 24,
   "id": "c1f8ef83",
   "metadata": {
    "execution": {
     "iopub.execute_input": "2023-07-09T10:20:19.789033Z",
     "iopub.status.busy": "2023-07-09T10:20:19.788281Z",
     "iopub.status.idle": "2023-07-09T10:20:19.813144Z",
     "shell.execute_reply": "2023-07-09T10:20:19.812300Z"
    },
    "papermill": {
     "duration": 0.051754,
     "end_time": "2023-07-09T10:20:19.815569",
     "exception": false,
     "start_time": "2023-07-09T10:20:19.763815",
     "status": "completed"
    },
    "tags": []
   },
   "outputs": [],
   "source": [
    "train_dataset[['Cabin_deck','Cabin_num','Cabin_side']]=train_dataset['Cabin'].str.split(\"/\",expand=True)"
   ]
  },
  {
   "cell_type": "code",
   "execution_count": 25,
   "id": "6234266d",
   "metadata": {
    "execution": {
     "iopub.execute_input": "2023-07-09T10:20:19.863049Z",
     "iopub.status.busy": "2023-07-09T10:20:19.862289Z",
     "iopub.status.idle": "2023-07-09T10:20:19.880479Z",
     "shell.execute_reply": "2023-07-09T10:20:19.879297Z"
    },
    "papermill": {
     "duration": 0.044966,
     "end_time": "2023-07-09T10:20:19.883229",
     "exception": false,
     "start_time": "2023-07-09T10:20:19.838263",
     "status": "completed"
    },
    "tags": []
   },
   "outputs": [
    {
     "data": {
      "text/html": [
       "<div>\n",
       "<style scoped>\n",
       "    .dataframe tbody tr th:only-of-type {\n",
       "        vertical-align: middle;\n",
       "    }\n",
       "\n",
       "    .dataframe tbody tr th {\n",
       "        vertical-align: top;\n",
       "    }\n",
       "\n",
       "    .dataframe thead th {\n",
       "        text-align: right;\n",
       "    }\n",
       "</style>\n",
       "<table border=\"1\" class=\"dataframe\">\n",
       "  <thead>\n",
       "    <tr style=\"text-align: right;\">\n",
       "      <th></th>\n",
       "      <th>PassengerId</th>\n",
       "      <th>HomePlanet</th>\n",
       "      <th>CryoSleep</th>\n",
       "      <th>Cabin</th>\n",
       "      <th>Destination</th>\n",
       "      <th>Age</th>\n",
       "      <th>VIP</th>\n",
       "      <th>Name</th>\n",
       "      <th>Transported</th>\n",
       "      <th>totalexpense</th>\n",
       "      <th>Cabin_deck</th>\n",
       "      <th>Cabin_num</th>\n",
       "      <th>Cabin_side</th>\n",
       "    </tr>\n",
       "  </thead>\n",
       "  <tbody>\n",
       "    <tr>\n",
       "      <th>0</th>\n",
       "      <td>0001_01</td>\n",
       "      <td>1</td>\n",
       "      <td>0</td>\n",
       "      <td>B/0/P</td>\n",
       "      <td>2</td>\n",
       "      <td>39.0</td>\n",
       "      <td>0</td>\n",
       "      <td>Maham Ofracculy</td>\n",
       "      <td>0</td>\n",
       "      <td>0.0</td>\n",
       "      <td>B</td>\n",
       "      <td>0</td>\n",
       "      <td>P</td>\n",
       "    </tr>\n",
       "    <tr>\n",
       "      <th>1</th>\n",
       "      <td>0002_01</td>\n",
       "      <td>0</td>\n",
       "      <td>0</td>\n",
       "      <td>F/0/S</td>\n",
       "      <td>2</td>\n",
       "      <td>24.0</td>\n",
       "      <td>0</td>\n",
       "      <td>Juanna Vines</td>\n",
       "      <td>1</td>\n",
       "      <td>736.0</td>\n",
       "      <td>F</td>\n",
       "      <td>0</td>\n",
       "      <td>S</td>\n",
       "    </tr>\n",
       "    <tr>\n",
       "      <th>2</th>\n",
       "      <td>0003_01</td>\n",
       "      <td>1</td>\n",
       "      <td>0</td>\n",
       "      <td>A/0/S</td>\n",
       "      <td>2</td>\n",
       "      <td>58.0</td>\n",
       "      <td>1</td>\n",
       "      <td>Altark Susent</td>\n",
       "      <td>0</td>\n",
       "      <td>10383.0</td>\n",
       "      <td>A</td>\n",
       "      <td>0</td>\n",
       "      <td>S</td>\n",
       "    </tr>\n",
       "    <tr>\n",
       "      <th>3</th>\n",
       "      <td>0003_02</td>\n",
       "      <td>1</td>\n",
       "      <td>0</td>\n",
       "      <td>A/0/S</td>\n",
       "      <td>2</td>\n",
       "      <td>33.0</td>\n",
       "      <td>0</td>\n",
       "      <td>Solam Susent</td>\n",
       "      <td>0</td>\n",
       "      <td>5176.0</td>\n",
       "      <td>A</td>\n",
       "      <td>0</td>\n",
       "      <td>S</td>\n",
       "    </tr>\n",
       "    <tr>\n",
       "      <th>4</th>\n",
       "      <td>0004_01</td>\n",
       "      <td>0</td>\n",
       "      <td>0</td>\n",
       "      <td>F/1/S</td>\n",
       "      <td>2</td>\n",
       "      <td>16.0</td>\n",
       "      <td>0</td>\n",
       "      <td>Willy Santantines</td>\n",
       "      <td>1</td>\n",
       "      <td>1091.0</td>\n",
       "      <td>F</td>\n",
       "      <td>1</td>\n",
       "      <td>S</td>\n",
       "    </tr>\n",
       "  </tbody>\n",
       "</table>\n",
       "</div>"
      ],
      "text/plain": [
       "  PassengerId  HomePlanet  CryoSleep  Cabin  Destination   Age  VIP  \\\n",
       "0     0001_01           1          0  B/0/P            2  39.0    0   \n",
       "1     0002_01           0          0  F/0/S            2  24.0    0   \n",
       "2     0003_01           1          0  A/0/S            2  58.0    1   \n",
       "3     0003_02           1          0  A/0/S            2  33.0    0   \n",
       "4     0004_01           0          0  F/1/S            2  16.0    0   \n",
       "\n",
       "                Name  Transported  totalexpense Cabin_deck Cabin_num  \\\n",
       "0    Maham Ofracculy            0           0.0          B         0   \n",
       "1       Juanna Vines            1         736.0          F         0   \n",
       "2      Altark Susent            0       10383.0          A         0   \n",
       "3       Solam Susent            0        5176.0          A         0   \n",
       "4  Willy Santantines            1        1091.0          F         1   \n",
       "\n",
       "  Cabin_side  \n",
       "0          P  \n",
       "1          S  \n",
       "2          S  \n",
       "3          S  \n",
       "4          S  "
      ]
     },
     "execution_count": 25,
     "metadata": {},
     "output_type": "execute_result"
    }
   ],
   "source": [
    "train_dataset.head()"
   ]
  },
  {
   "cell_type": "code",
   "execution_count": 26,
   "id": "c6f972fd",
   "metadata": {
    "execution": {
     "iopub.execute_input": "2023-07-09T10:20:19.931420Z",
     "iopub.status.busy": "2023-07-09T10:20:19.931030Z",
     "iopub.status.idle": "2023-07-09T10:20:19.953044Z",
     "shell.execute_reply": "2023-07-09T10:20:19.951910Z"
    },
    "papermill": {
     "duration": 0.049164,
     "end_time": "2023-07-09T10:20:19.955553",
     "exception": false,
     "start_time": "2023-07-09T10:20:19.906389",
     "status": "completed"
    },
    "tags": []
   },
   "outputs": [],
   "source": [
    "train_dataset.Cabin_deck=le.fit_transform(train_dataset.Cabin_deck)\n",
    "train_dataset.Cabin_num=le.fit_transform(train_dataset.Cabin_num)\n",
    "train_dataset.Cabin_side=le.fit_transform(train_dataset.Cabin_side)"
   ]
  },
  {
   "cell_type": "code",
   "execution_count": 27,
   "id": "44083554",
   "metadata": {
    "execution": {
     "iopub.execute_input": "2023-07-09T10:20:20.003214Z",
     "iopub.status.busy": "2023-07-09T10:20:20.002787Z",
     "iopub.status.idle": "2023-07-09T10:20:20.030513Z",
     "shell.execute_reply": "2023-07-09T10:20:20.029390Z"
    },
    "papermill": {
     "duration": 0.054555,
     "end_time": "2023-07-09T10:20:20.033137",
     "exception": false,
     "start_time": "2023-07-09T10:20:19.978582",
     "status": "completed"
    },
    "tags": []
   },
   "outputs": [
    {
     "name": "stderr",
     "output_type": "stream",
     "text": [
      "/tmp/ipykernel_20/2043526507.py:1: FutureWarning: The default value of numeric_only in DataFrame.corr is deprecated. In a future version, it will default to False. Select only valid columns or specify the value of numeric_only to silence this warning.\n",
      "  train_dataset.corr()\n"
     ]
    },
    {
     "data": {
      "text/html": [
       "<div>\n",
       "<style scoped>\n",
       "    .dataframe tbody tr th:only-of-type {\n",
       "        vertical-align: middle;\n",
       "    }\n",
       "\n",
       "    .dataframe tbody tr th {\n",
       "        vertical-align: top;\n",
       "    }\n",
       "\n",
       "    .dataframe thead th {\n",
       "        text-align: right;\n",
       "    }\n",
       "</style>\n",
       "<table border=\"1\" class=\"dataframe\">\n",
       "  <thead>\n",
       "    <tr style=\"text-align: right;\">\n",
       "      <th></th>\n",
       "      <th>HomePlanet</th>\n",
       "      <th>CryoSleep</th>\n",
       "      <th>Destination</th>\n",
       "      <th>Age</th>\n",
       "      <th>VIP</th>\n",
       "      <th>Transported</th>\n",
       "      <th>totalexpense</th>\n",
       "      <th>Cabin_deck</th>\n",
       "      <th>Cabin_num</th>\n",
       "      <th>Cabin_side</th>\n",
       "    </tr>\n",
       "  </thead>\n",
       "  <tbody>\n",
       "    <tr>\n",
       "      <th>HomePlanet</th>\n",
       "      <td>1.000000</td>\n",
       "      <td>0.080988</td>\n",
       "      <td>0.042618</td>\n",
       "      <td>0.123121</td>\n",
       "      <td>0.114819</td>\n",
       "      <td>0.107755</td>\n",
       "      <td>0.123389</td>\n",
       "      <td>-0.338208</td>\n",
       "      <td>0.007214</td>\n",
       "      <td>0.006099</td>\n",
       "    </tr>\n",
       "    <tr>\n",
       "      <th>CryoSleep</th>\n",
       "      <td>0.080988</td>\n",
       "      <td>1.000000</td>\n",
       "      <td>-0.097877</td>\n",
       "      <td>-0.070736</td>\n",
       "      <td>-0.078281</td>\n",
       "      <td>0.460132</td>\n",
       "      <td>-0.357884</td>\n",
       "      <td>0.006302</td>\n",
       "      <td>0.013693</td>\n",
       "      <td>0.028419</td>\n",
       "    </tr>\n",
       "    <tr>\n",
       "      <th>Destination</th>\n",
       "      <td>0.042618</td>\n",
       "      <td>-0.097877</td>\n",
       "      <td>1.000000</td>\n",
       "      <td>-0.004207</td>\n",
       "      <td>-0.045351</td>\n",
       "      <td>-0.104817</td>\n",
       "      <td>-0.091493</td>\n",
       "      <td>0.170279</td>\n",
       "      <td>-0.018245</td>\n",
       "      <td>-0.015758</td>\n",
       "    </tr>\n",
       "    <tr>\n",
       "      <th>Age</th>\n",
       "      <td>0.123121</td>\n",
       "      <td>-0.070736</td>\n",
       "      <td>-0.004207</td>\n",
       "      <td>1.000000</td>\n",
       "      <td>0.091574</td>\n",
       "      <td>-0.074249</td>\n",
       "      <td>0.178034</td>\n",
       "      <td>-0.222232</td>\n",
       "      <td>-0.000695</td>\n",
       "      <td>0.011757</td>\n",
       "    </tr>\n",
       "    <tr>\n",
       "      <th>VIP</th>\n",
       "      <td>0.114819</td>\n",
       "      <td>-0.078281</td>\n",
       "      <td>-0.045351</td>\n",
       "      <td>0.091574</td>\n",
       "      <td>1.000000</td>\n",
       "      <td>-0.037261</td>\n",
       "      <td>0.159296</td>\n",
       "      <td>-0.166162</td>\n",
       "      <td>0.008614</td>\n",
       "      <td>-0.006057</td>\n",
       "    </tr>\n",
       "    <tr>\n",
       "      <th>Transported</th>\n",
       "      <td>0.107755</td>\n",
       "      <td>0.460132</td>\n",
       "      <td>-0.104817</td>\n",
       "      <td>-0.074249</td>\n",
       "      <td>-0.037261</td>\n",
       "      <td>1.000000</td>\n",
       "      <td>-0.187065</td>\n",
       "      <td>-0.104786</td>\n",
       "      <td>0.019015</td>\n",
       "      <td>0.093319</td>\n",
       "    </tr>\n",
       "    <tr>\n",
       "      <th>totalexpense</th>\n",
       "      <td>0.123389</td>\n",
       "      <td>-0.357884</td>\n",
       "      <td>-0.091493</td>\n",
       "      <td>0.178034</td>\n",
       "      <td>0.159296</td>\n",
       "      <td>-0.187065</td>\n",
       "      <td>1.000000</td>\n",
       "      <td>-0.345314</td>\n",
       "      <td>0.012975</td>\n",
       "      <td>0.006851</td>\n",
       "    </tr>\n",
       "    <tr>\n",
       "      <th>Cabin_deck</th>\n",
       "      <td>-0.338208</td>\n",
       "      <td>0.006302</td>\n",
       "      <td>0.170279</td>\n",
       "      <td>-0.222232</td>\n",
       "      <td>-0.166162</td>\n",
       "      <td>-0.104786</td>\n",
       "      <td>-0.345314</td>\n",
       "      <td>1.000000</td>\n",
       "      <td>-0.133826</td>\n",
       "      <td>-0.198261</td>\n",
       "    </tr>\n",
       "    <tr>\n",
       "      <th>Cabin_num</th>\n",
       "      <td>0.007214</td>\n",
       "      <td>0.013693</td>\n",
       "      <td>-0.018245</td>\n",
       "      <td>-0.000695</td>\n",
       "      <td>0.008614</td>\n",
       "      <td>0.019015</td>\n",
       "      <td>0.012975</td>\n",
       "      <td>-0.133826</td>\n",
       "      <td>1.000000</td>\n",
       "      <td>0.113086</td>\n",
       "    </tr>\n",
       "    <tr>\n",
       "      <th>Cabin_side</th>\n",
       "      <td>0.006099</td>\n",
       "      <td>0.028419</td>\n",
       "      <td>-0.015758</td>\n",
       "      <td>0.011757</td>\n",
       "      <td>-0.006057</td>\n",
       "      <td>0.093319</td>\n",
       "      <td>0.006851</td>\n",
       "      <td>-0.198261</td>\n",
       "      <td>0.113086</td>\n",
       "      <td>1.000000</td>\n",
       "    </tr>\n",
       "  </tbody>\n",
       "</table>\n",
       "</div>"
      ],
      "text/plain": [
       "              HomePlanet  CryoSleep  Destination       Age       VIP  \\\n",
       "HomePlanet      1.000000   0.080988     0.042618  0.123121  0.114819   \n",
       "CryoSleep       0.080988   1.000000    -0.097877 -0.070736 -0.078281   \n",
       "Destination     0.042618  -0.097877     1.000000 -0.004207 -0.045351   \n",
       "Age             0.123121  -0.070736    -0.004207  1.000000  0.091574   \n",
       "VIP             0.114819  -0.078281    -0.045351  0.091574  1.000000   \n",
       "Transported     0.107755   0.460132    -0.104817 -0.074249 -0.037261   \n",
       "totalexpense    0.123389  -0.357884    -0.091493  0.178034  0.159296   \n",
       "Cabin_deck     -0.338208   0.006302     0.170279 -0.222232 -0.166162   \n",
       "Cabin_num       0.007214   0.013693    -0.018245 -0.000695  0.008614   \n",
       "Cabin_side      0.006099   0.028419    -0.015758  0.011757 -0.006057   \n",
       "\n",
       "              Transported  totalexpense  Cabin_deck  Cabin_num  Cabin_side  \n",
       "HomePlanet       0.107755      0.123389   -0.338208   0.007214    0.006099  \n",
       "CryoSleep        0.460132     -0.357884    0.006302   0.013693    0.028419  \n",
       "Destination     -0.104817     -0.091493    0.170279  -0.018245   -0.015758  \n",
       "Age             -0.074249      0.178034   -0.222232  -0.000695    0.011757  \n",
       "VIP             -0.037261      0.159296   -0.166162   0.008614   -0.006057  \n",
       "Transported      1.000000     -0.187065   -0.104786   0.019015    0.093319  \n",
       "totalexpense    -0.187065      1.000000   -0.345314   0.012975    0.006851  \n",
       "Cabin_deck      -0.104786     -0.345314    1.000000  -0.133826   -0.198261  \n",
       "Cabin_num        0.019015      0.012975   -0.133826   1.000000    0.113086  \n",
       "Cabin_side       0.093319      0.006851   -0.198261   0.113086    1.000000  "
      ]
     },
     "execution_count": 27,
     "metadata": {},
     "output_type": "execute_result"
    }
   ],
   "source": [
    "train_dataset.corr()"
   ]
  },
  {
   "cell_type": "code",
   "execution_count": 28,
   "id": "42a5dd89",
   "metadata": {
    "execution": {
     "iopub.execute_input": "2023-07-09T10:20:20.081997Z",
     "iopub.status.busy": "2023-07-09T10:20:20.081114Z",
     "iopub.status.idle": "2023-07-09T10:20:21.000041Z",
     "shell.execute_reply": "2023-07-09T10:20:20.998929Z"
    },
    "papermill": {
     "duration": 0.946994,
     "end_time": "2023-07-09T10:20:21.003421",
     "exception": false,
     "start_time": "2023-07-09T10:20:20.056427",
     "status": "completed"
    },
    "tags": []
   },
   "outputs": [
    {
     "name": "stderr",
     "output_type": "stream",
     "text": [
      "/tmp/ipykernel_20/440627670.py:1: FutureWarning: The default value of numeric_only in DataFrame.corr is deprecated. In a future version, it will default to False. Select only valid columns or specify the value of numeric_only to silence this warning.\n",
      "  sns.heatmap(train_dataset.corr(),annot=True)\n"
     ]
    },
    {
     "data": {
      "text/plain": [
       "<Axes: >"
      ]
     },
     "execution_count": 28,
     "metadata": {},
     "output_type": "execute_result"
    },
    {
     "data": {
      "image/png": "[encoded data removed]",
      "text/plain": [
       "<Figure size 640x480 with 2 Axes>"
      ]
     },
     "metadata": {},
     "output_type": "display_data"
    }
   ],
   "source": [
    "sns.heatmap(train_dataset.corr(),annot=True)"
   ]
  },
  {
   "cell_type": "code",
   "execution_count": 29,
   "id": "9c049c1f",
   "metadata": {
    "execution": {
     "iopub.execute_input": "2023-07-09T10:20:21.055996Z",
     "iopub.status.busy": "2023-07-09T10:20:21.055578Z",
     "iopub.status.idle": "2023-07-09T10:20:21.465446Z",
     "shell.execute_reply": "2023-07-09T10:20:21.464287Z"
    },
    "papermill": {
     "duration": 0.439275,
     "end_time": "2023-07-09T10:20:21.468093",
     "exception": false,
     "start_time": "2023-07-09T10:20:21.028818",
     "status": "completed"
    },
    "tags": []
   },
   "outputs": [
    {
     "name": "stderr",
     "output_type": "stream",
     "text": [
      "/tmp/ipykernel_20/4038613893.py:1: FutureWarning: The default value of numeric_only in DataFrame.corr is deprecated. In a future version, it will default to False. Select only valid columns or specify the value of numeric_only to silence this warning.\n",
      "  sns.heatmap(train_dataset.corr()[['Transported']],annot=True)\n"
     ]
    },
    {
     "data": {
      "text/plain": [
       "<Axes: >"
      ]
     },
     "execution_count": 29,
     "metadata": {},
     "output_type": "execute_result"
    },
    {
     "data": {
      "image/png": "[encoded data removed]",
      "text/plain": [
       "<Figure size 640x480 with 2 Axes>"
      ]
     },
     "metadata": {},
     "output_type": "display_data"
    }
   ],
   "source": [
    "sns.heatmap(train_dataset.corr()[['Transported']],annot=True)"
   ]
  },
  {
   "cell_type": "code",
   "execution_count": 30,
   "id": "2da89060",
   "metadata": {
    "execution": {
     "iopub.execute_input": "2023-07-09T10:20:21.522488Z",
     "iopub.status.busy": "2023-07-09T10:20:21.522067Z",
     "iopub.status.idle": "2023-07-09T10:20:21.538575Z",
     "shell.execute_reply": "2023-07-09T10:20:21.537418Z"
    },
    "papermill": {
     "duration": 0.046715,
     "end_time": "2023-07-09T10:20:21.540997",
     "exception": false,
     "start_time": "2023-07-09T10:20:21.494282",
     "status": "completed"
    },
    "tags": []
   },
   "outputs": [
    {
     "data": {
      "text/html": [
       "<div>\n",
       "<style scoped>\n",
       "    .dataframe tbody tr th:only-of-type {\n",
       "        vertical-align: middle;\n",
       "    }\n",
       "\n",
       "    .dataframe tbody tr th {\n",
       "        vertical-align: top;\n",
       "    }\n",
       "\n",
       "    .dataframe thead th {\n",
       "        text-align: right;\n",
       "    }\n",
       "</style>\n",
       "<table border=\"1\" class=\"dataframe\">\n",
       "  <thead>\n",
       "    <tr style=\"text-align: right;\">\n",
       "      <th></th>\n",
       "      <th>PassengerId</th>\n",
       "      <th>HomePlanet</th>\n",
       "      <th>CryoSleep</th>\n",
       "      <th>Cabin</th>\n",
       "      <th>Destination</th>\n",
       "      <th>Age</th>\n",
       "      <th>VIP</th>\n",
       "      <th>Name</th>\n",
       "      <th>Transported</th>\n",
       "      <th>totalexpense</th>\n",
       "      <th>Cabin_deck</th>\n",
       "      <th>Cabin_num</th>\n",
       "      <th>Cabin_side</th>\n",
       "    </tr>\n",
       "  </thead>\n",
       "  <tbody>\n",
       "    <tr>\n",
       "      <th>0</th>\n",
       "      <td>0001_01</td>\n",
       "      <td>1</td>\n",
       "      <td>0</td>\n",
       "      <td>B/0/P</td>\n",
       "      <td>2</td>\n",
       "      <td>39.0</td>\n",
       "      <td>0</td>\n",
       "      <td>Maham Ofracculy</td>\n",
       "      <td>0</td>\n",
       "      <td>0.0</td>\n",
       "      <td>2</td>\n",
       "      <td>0</td>\n",
       "      <td>0</td>\n",
       "    </tr>\n",
       "    <tr>\n",
       "      <th>1</th>\n",
       "      <td>0002_01</td>\n",
       "      <td>0</td>\n",
       "      <td>0</td>\n",
       "      <td>F/0/S</td>\n",
       "      <td>2</td>\n",
       "      <td>24.0</td>\n",
       "      <td>0</td>\n",
       "      <td>Juanna Vines</td>\n",
       "      <td>1</td>\n",
       "      <td>736.0</td>\n",
       "      <td>6</td>\n",
       "      <td>0</td>\n",
       "      <td>1</td>\n",
       "    </tr>\n",
       "  </tbody>\n",
       "</table>\n",
       "</div>"
      ],
      "text/plain": [
       "  PassengerId  HomePlanet  CryoSleep  Cabin  Destination   Age  VIP  \\\n",
       "0     0001_01           1          0  B/0/P            2  39.0    0   \n",
       "1     0002_01           0          0  F/0/S            2  24.0    0   \n",
       "\n",
       "              Name  Transported  totalexpense  Cabin_deck  Cabin_num  \\\n",
       "0  Maham Ofracculy            0           0.0           2          0   \n",
       "1     Juanna Vines            1         736.0           6          0   \n",
       "\n",
       "   Cabin_side  \n",
       "0           0  \n",
       "1           1  "
      ]
     },
     "execution_count": 30,
     "metadata": {},
     "output_type": "execute_result"
    }
   ],
   "source": [
    "train_dataset.head(2)"
   ]
  },
  {
   "cell_type": "code",
   "execution_count": 31,
   "id": "7f18af4e",
   "metadata": {
    "execution": {
     "iopub.execute_input": "2023-07-09T10:20:21.597054Z",
     "iopub.status.busy": "2023-07-09T10:20:21.596599Z",
     "iopub.status.idle": "2023-07-09T10:20:21.603658Z",
     "shell.execute_reply": "2023-07-09T10:20:21.602429Z"
    },
    "papermill": {
     "duration": 0.037615,
     "end_time": "2023-07-09T10:20:21.605849",
     "exception": false,
     "start_time": "2023-07-09T10:20:21.568234",
     "status": "completed"
    },
    "tags": []
   },
   "outputs": [],
   "source": [
    "x=train_dataset.drop(['PassengerId','Cabin','Name','Transported'], axis=1)\n",
    "y=train_dataset.Transported"
   ]
  },
  {
   "cell_type": "code",
   "execution_count": 32,
   "id": "14e2cf19",
   "metadata": {
    "execution": {
     "iopub.execute_input": "2023-07-09T10:20:21.660920Z",
     "iopub.status.busy": "2023-07-09T10:20:21.660522Z",
     "iopub.status.idle": "2023-07-09T10:20:21.667664Z",
     "shell.execute_reply": "2023-07-09T10:20:21.666814Z"
    },
    "papermill": {
     "duration": 0.037477,
     "end_time": "2023-07-09T10:20:21.670005",
     "exception": false,
     "start_time": "2023-07-09T10:20:21.632528",
     "status": "completed"
    },
    "tags": []
   },
   "outputs": [],
   "source": [
    "x_train,x_test,y_train,y_test=train_test_split(x,y,test_size=0.3)"
   ]
  },
  {
   "cell_type": "code",
   "execution_count": 33,
   "id": "8af5025e",
   "metadata": {
    "execution": {
     "iopub.execute_input": "2023-07-09T10:20:21.724763Z",
     "iopub.status.busy": "2023-07-09T10:20:21.724345Z",
     "iopub.status.idle": "2023-07-09T10:20:22.783798Z",
     "shell.execute_reply": "2023-07-09T10:20:22.782775Z"
    },
    "papermill": {
     "duration": 1.089961,
     "end_time": "2023-07-09T10:20:22.786409",
     "exception": false,
     "start_time": "2023-07-09T10:20:21.696448",
     "status": "completed"
    },
    "tags": []
   },
   "outputs": [
    {
     "data": {
      "text/html": [
       "<style>#sk-container-id-1 {color: black;background-color: white;}#sk-container-id-1 pre{padding: 0;}#sk-container-id-1 div.sk-toggleable {background-color: white;}#sk-container-id-1 label.sk-toggleable__label {cursor: pointer;display: block;width: 100%;margin-bottom: 0;padding: 0.3em;box-sizing: border-box;text-align: center;}#sk-container-id-1 label.sk-toggleable__label-arrow:before {content: \"▸\";float: left;margin-right: 0.25em;color: #696969;}#sk-container-id-1 label.sk-toggleable__label-arrow:hover:before {color: black;}#sk-container-id-1 div.sk-estimator:hover label.sk-toggleable__label-arrow:before {color: black;}#sk-container-id-1 div.sk-toggleable__content {max-height: 0;max-width: 0;overflow: hidden;text-align: left;background-color: #f0f8ff;}#sk-container-id-1 div.sk-toggleable__content pre {margin: 0.2em;color: black;border-radius: 0.25em;background-color: #f0f8ff;}#sk-container-id-1 input.sk-toggleable__control:checked~div.sk-toggleable__content {max-height: 200px;max-width: 100%;overflow: auto;}#sk-container-id-1 input.sk-toggleable__control:checked~label.sk-toggleable__label-arrow:before {content: \"▾\";}#sk-container-id-1 div.sk-estimator input.sk-toggleable__control:checked~label.sk-toggleable__label {background-color: #d4ebff;}#sk-container-id-1 div.sk-label input.sk-toggleable__control:checked~label.sk-toggleable__label {background-color: #d4ebff;}#sk-container-id-1 input.sk-hidden--visually {border: 0;clip: rect(1px 1px 1px 1px);clip: rect(1px, 1px, 1px, 1px);height: 1px;margin: -1px;overflow: hidden;padding: 0;position: absolute;width: 1px;}#sk-container-id-1 div.sk-estimator {font-family: monospace;background-color: #f0f8ff;border: 1px dotted black;border-radius: 0.25em;box-sizing: border-box;margin-bottom: 0.5em;}#sk-container-id-1 div.sk-estimator:hover {background-color: #d4ebff;}#sk-container-id-1 div.sk-parallel-item::after {content: \"\";width: 100%;border-bottom: 1px solid gray;flex-grow: 1;}#sk-container-id-1 div.sk-label:hover label.sk-toggleable__label {background-color: #d4ebff;}#sk-container-id-1 div.sk-serial::before {content: \"\";position: absolute;border-left: 1px solid gray;box-sizing: border-box;top: 0;bottom: 0;left: 50%;z-index: 0;}#sk-container-id-1 div.sk-serial {display: flex;flex-direction: column;align-items: center;background-color: white;padding-right: 0.2em;padding-left: 0.2em;position: relative;}#sk-container-id-1 div.sk-item {position: relative;z-index: 1;}#sk-container-id-1 div.sk-parallel {display: flex;align-items: stretch;justify-content: center;background-color: white;position: relative;}#sk-container-id-1 div.sk-item::before, #sk-container-id-1 div.sk-parallel-item::before {content: \"\";position: absolute;border-left: 1px solid gray;box-sizing: border-box;top: 0;bottom: 0;left: 50%;z-index: -1;}#sk-container-id-1 div.sk-parallel-item {display: flex;flex-direction: column;z-index: 1;position: relative;background-color: white;}#sk-container-id-1 div.sk-parallel-item:first-child::after {align-self: flex-end;width: 50%;}#sk-container-id-1 div.sk-parallel-item:last-child::after {align-self: flex-start;width: 50%;}#sk-container-id-1 div.sk-parallel-item:only-child::after {width: 0;}#sk-container-id-1 div.sk-dashed-wrapped {border: 1px dashed gray;margin: 0 0.4em 0.5em 0.4em;box-sizing: border-box;padding-bottom: 0.4em;background-color: white;}#sk-container-id-1 div.sk-label label {font-family: monospace;font-weight: bold;display: inline-block;line-height: 1.2em;}#sk-container-id-1 div.sk-label-container {text-align: center;}#sk-container-id-1 div.sk-container {/* jupyter's `normalize.less` sets `[hidden] { display: none; }` but bootstrap.min.css set `[hidden] { display: none !important; }` so we also need the `!important` here to be able to override the default hidden behavior on the sphinx rendered scikit-learn.org. See: https://github.com/scikit-learn/scikit-learn/issues/21755 */display: inline-block !important;position: relative;}#sk-container-id-1 div.sk-text-repr-fallback {display: none;}</style><div id=\"sk-container-id-1\" class=\"sk-top-container\"><div class=\"sk-text-repr-fallback\"><pre>RandomForestClassifier()</pre><b>In a Jupyter environment, please rerun this cell to show the HTML representation or trust the notebook. <br />On GitHub, the HTML representation is unable to render, please try loading this page with nbviewer.org.</b></div><div class=\"sk-container\" hidden><div class=\"sk-item\"><div class=\"sk-estimator sk-toggleable\"><input class=\"sk-toggleable__control sk-hidden--visually\" id=\"sk-estimator-id-1\" type=\"checkbox\" checked><label for=\"sk-estimator-id-1\" class=\"sk-toggleable__label sk-toggleable__label-arrow\">RandomForestClassifier</label><div class=\"sk-toggleable__content\"><pre>RandomForestClassifier()</pre></div></div></div></div></div>"
      ],
      "text/plain": [
       "RandomForestClassifier()"
      ]
     },
     "execution_count": 33,
     "metadata": {},
     "output_type": "execute_result"
    }
   ],
   "source": [
    "r=RandomForestClassifier()\n",
    "r.fit(x_train,y_train)"
   ]
  },
  {
   "cell_type": "code",
   "execution_count": 34,
   "id": "0f342944",
   "metadata": {
    "execution": {
     "iopub.execute_input": "2023-07-09T10:20:22.844527Z",
     "iopub.status.busy": "2023-07-09T10:20:22.844140Z",
     "iopub.status.idle": "2023-07-09T10:20:22.921495Z",
     "shell.execute_reply": "2023-07-09T10:20:22.920477Z"
    },
    "papermill": {
     "duration": 0.109339,
     "end_time": "2023-07-09T10:20:22.924363",
     "exception": false,
     "start_time": "2023-07-09T10:20:22.815024",
     "status": "completed"
    },
    "tags": []
   },
   "outputs": [],
   "source": [
    "p=r.predict(x_test)"
   ]
  },
  {
   "cell_type": "code",
   "execution_count": 35,
   "id": "01f3b8be",
   "metadata": {
    "execution": {
     "iopub.execute_input": "2023-07-09T10:20:22.983365Z",
     "iopub.status.busy": "2023-07-09T10:20:22.982789Z",
     "iopub.status.idle": "2023-07-09T10:20:23.064251Z",
     "shell.execute_reply": "2023-07-09T10:20:23.063058Z"
    },
    "papermill": {
     "duration": 0.112953,
     "end_time": "2023-07-09T10:20:23.066994",
     "exception": false,
     "start_time": "2023-07-09T10:20:22.954041",
     "status": "completed"
    },
    "tags": []
   },
   "outputs": [
    {
     "data": {
      "text/plain": [
       "0.7503834355828221"
      ]
     },
     "execution_count": 35,
     "metadata": {},
     "output_type": "execute_result"
    }
   ],
   "source": [
    "r.score(x_test,y_test)"
   ]
  },
  {
   "cell_type": "code",
   "execution_count": 36,
   "id": "8b1bc974",
   "metadata": {
    "execution": {
     "iopub.execute_input": "2023-07-09T10:20:23.124650Z",
     "iopub.status.busy": "2023-07-09T10:20:23.124225Z",
     "iopub.status.idle": "2023-07-09T10:20:23.142745Z",
     "shell.execute_reply": "2023-07-09T10:20:23.141603Z"
    },
    "papermill": {
     "duration": 0.050016,
     "end_time": "2023-07-09T10:20:23.145100",
     "exception": false,
     "start_time": "2023-07-09T10:20:23.095084",
     "status": "completed"
    },
    "tags": []
   },
   "outputs": [
    {
     "data": {
      "text/html": [
       "<div>\n",
       "<style scoped>\n",
       "    .dataframe tbody tr th:only-of-type {\n",
       "        vertical-align: middle;\n",
       "    }\n",
       "\n",
       "    .dataframe tbody tr th {\n",
       "        vertical-align: top;\n",
       "    }\n",
       "\n",
       "    .dataframe thead th {\n",
       "        text-align: right;\n",
       "    }\n",
       "</style>\n",
       "<table border=\"1\" class=\"dataframe\">\n",
       "  <thead>\n",
       "    <tr style=\"text-align: right;\">\n",
       "      <th></th>\n",
       "      <th>PassengerId</th>\n",
       "      <th>HomePlanet</th>\n",
       "      <th>CryoSleep</th>\n",
       "      <th>Cabin</th>\n",
       "      <th>Destination</th>\n",
       "      <th>Age</th>\n",
       "      <th>VIP</th>\n",
       "      <th>RoomService</th>\n",
       "      <th>FoodCourt</th>\n",
       "      <th>ShoppingMall</th>\n",
       "      <th>Spa</th>\n",
       "      <th>VRDeck</th>\n",
       "      <th>Name</th>\n",
       "    </tr>\n",
       "  </thead>\n",
       "  <tbody>\n",
       "    <tr>\n",
       "      <th>0</th>\n",
       "      <td>0013_01</td>\n",
       "      <td>Earth</td>\n",
       "      <td>True</td>\n",
       "      <td>G/3/S</td>\n",
       "      <td>TRAPPIST-1e</td>\n",
       "      <td>27.0</td>\n",
       "      <td>False</td>\n",
       "      <td>0.0</td>\n",
       "      <td>0.0</td>\n",
       "      <td>0.0</td>\n",
       "      <td>0.0</td>\n",
       "      <td>0.0</td>\n",
       "      <td>Nelly Carsoning</td>\n",
       "    </tr>\n",
       "    <tr>\n",
       "      <th>1</th>\n",
       "      <td>0018_01</td>\n",
       "      <td>Earth</td>\n",
       "      <td>False</td>\n",
       "      <td>F/4/S</td>\n",
       "      <td>TRAPPIST-1e</td>\n",
       "      <td>19.0</td>\n",
       "      <td>False</td>\n",
       "      <td>0.0</td>\n",
       "      <td>9.0</td>\n",
       "      <td>0.0</td>\n",
       "      <td>2823.0</td>\n",
       "      <td>0.0</td>\n",
       "      <td>Lerome Peckers</td>\n",
       "    </tr>\n",
       "  </tbody>\n",
       "</table>\n",
       "</div>"
      ],
      "text/plain": [
       "  PassengerId HomePlanet CryoSleep  Cabin  Destination   Age    VIP  \\\n",
       "0     0013_01      Earth      True  G/3/S  TRAPPIST-1e  27.0  False   \n",
       "1     0018_01      Earth     False  F/4/S  TRAPPIST-1e  19.0  False   \n",
       "\n",
       "   RoomService  FoodCourt  ShoppingMall     Spa  VRDeck             Name  \n",
       "0          0.0        0.0           0.0     0.0     0.0  Nelly Carsoning  \n",
       "1          0.0        9.0           0.0  2823.0     0.0   Lerome Peckers  "
      ]
     },
     "execution_count": 36,
     "metadata": {},
     "output_type": "execute_result"
    }
   ],
   "source": [
    "test_data.head(2)"
   ]
  },
  {
   "cell_type": "code",
   "execution_count": 37,
   "id": "e58bd491",
   "metadata": {
    "execution": {
     "iopub.execute_input": "2023-07-09T10:20:23.204362Z",
     "iopub.status.busy": "2023-07-09T10:20:23.203948Z",
     "iopub.status.idle": "2023-07-09T10:20:23.222897Z",
     "shell.execute_reply": "2023-07-09T10:20:23.222032Z"
    },
    "papermill": {
     "duration": 0.050577,
     "end_time": "2023-07-09T10:20:23.225087",
     "exception": false,
     "start_time": "2023-07-09T10:20:23.174510",
     "status": "completed"
    },
    "tags": []
   },
   "outputs": [
    {
     "data": {
      "text/plain": [
       "PassengerId       0\n",
       "HomePlanet       87\n",
       "CryoSleep        93\n",
       "Cabin           100\n",
       "Destination      92\n",
       "Age              91\n",
       "VIP              93\n",
       "RoomService      82\n",
       "FoodCourt       106\n",
       "ShoppingMall     98\n",
       "Spa             101\n",
       "VRDeck           80\n",
       "Name             94\n",
       "dtype: int64"
      ]
     },
     "execution_count": 37,
     "metadata": {},
     "output_type": "execute_result"
    }
   ],
   "source": [
    "test_data.isnull().sum()"
   ]
  },
  {
   "cell_type": "code",
   "execution_count": 38,
   "id": "0aa1754a",
   "metadata": {
    "execution": {
     "iopub.execute_input": "2023-07-09T10:20:23.284313Z",
     "iopub.status.busy": "2023-07-09T10:20:23.283877Z",
     "iopub.status.idle": "2023-07-09T10:20:23.290064Z",
     "shell.execute_reply": "2023-07-09T10:20:23.289272Z"
    },
    "papermill": {
     "duration": 0.038397,
     "end_time": "2023-07-09T10:20:23.291975",
     "exception": false,
     "start_time": "2023-07-09T10:20:23.253578",
     "status": "completed"
    },
    "tags": []
   },
   "outputs": [
    {
     "data": {
      "text/plain": [
       "(4277, 13)"
      ]
     },
     "execution_count": 38,
     "metadata": {},
     "output_type": "execute_result"
    }
   ],
   "source": [
    "test_data.shape"
   ]
  },
  {
   "cell_type": "code",
   "execution_count": 39,
   "id": "a7434288",
   "metadata": {
    "execution": {
     "iopub.execute_input": "2023-07-09T10:20:23.350210Z",
     "iopub.status.busy": "2023-07-09T10:20:23.349818Z",
     "iopub.status.idle": "2023-07-09T10:20:23.356967Z",
     "shell.execute_reply": "2023-07-09T10:20:23.355802Z"
    },
    "papermill": {
     "duration": 0.039334,
     "end_time": "2023-07-09T10:20:23.359398",
     "exception": false,
     "start_time": "2023-07-09T10:20:23.320064",
     "status": "completed"
    },
    "tags": []
   },
   "outputs": [],
   "source": [
    "test_data['totalexpense']=test_data['RoomService']+test_data['FoodCourt']+test_data['ShoppingMall']+test_data['Spa']+test_data['VRDeck']"
   ]
  },
  {
   "cell_type": "code",
   "execution_count": 40,
   "id": "8649598b",
   "metadata": {
    "execution": {
     "iopub.execute_input": "2023-07-09T10:20:23.418296Z",
     "iopub.status.busy": "2023-07-09T10:20:23.417913Z",
     "iopub.status.idle": "2023-07-09T10:20:23.425361Z",
     "shell.execute_reply": "2023-07-09T10:20:23.424421Z"
    },
    "papermill": {
     "duration": 0.039785,
     "end_time": "2023-07-09T10:20:23.427628",
     "exception": false,
     "start_time": "2023-07-09T10:20:23.387843",
     "status": "completed"
    },
    "tags": []
   },
   "outputs": [],
   "source": [
    "test_dataset=test_data.copy()\n",
    "test_dataset=test_dataset.drop(['RoomService','FoodCourt','ShoppingMall','Spa','VRDeck'],axis=1)"
   ]
  },
  {
   "cell_type": "code",
   "execution_count": 41,
   "id": "04b25046",
   "metadata": {
    "execution": {
     "iopub.execute_input": "2023-07-09T10:20:23.487793Z",
     "iopub.status.busy": "2023-07-09T10:20:23.486947Z",
     "iopub.status.idle": "2023-07-09T10:20:23.501594Z",
     "shell.execute_reply": "2023-07-09T10:20:23.500706Z"
    },
    "papermill": {
     "duration": 0.047717,
     "end_time": "2023-07-09T10:20:23.504100",
     "exception": false,
     "start_time": "2023-07-09T10:20:23.456383",
     "status": "completed"
    },
    "tags": []
   },
   "outputs": [],
   "source": [
    "test_dataset['Age'].fillna(test_dataset['Age'].mean(), inplace=True)\n",
    "test_dataset['VIP'].fillna('False', inplace=True)\n",
    "test_dataset['totalexpense'].fillna(test_dataset['totalexpense'].mean(), inplace=True)\n",
    "test_dataset['Destination'].fillna('Unknown',inplace=True)\n",
    "test_dataset['Cabin'].fillna('0', inplace=True)\n",
    "test_dataset['HomePlanet'].fillna('Unknown',inplace=True)\n",
    "test_dataset['CryoSleep'].fillna('False',inplace=True)\n",
    "test_dataset['Name'].fillna('Unknown', inplace=True)"
   ]
  },
  {
   "cell_type": "code",
   "execution_count": 42,
   "id": "fc36a24f",
   "metadata": {
    "execution": {
     "iopub.execute_input": "2023-07-09T10:20:23.563545Z",
     "iopub.status.busy": "2023-07-09T10:20:23.562554Z",
     "iopub.status.idle": "2023-07-09T10:20:23.572548Z",
     "shell.execute_reply": "2023-07-09T10:20:23.571357Z"
    },
    "papermill": {
     "duration": 0.042355,
     "end_time": "2023-07-09T10:20:23.575084",
     "exception": false,
     "start_time": "2023-07-09T10:20:23.532729",
     "status": "completed"
    },
    "tags": []
   },
   "outputs": [],
   "source": [
    "test_dataset[['CryoSleep', 'VIP']] = (test_dataset[['CryoSleep', 'VIP']] == True).astype(int)"
   ]
  },
  {
   "cell_type": "code",
   "execution_count": 43,
   "id": "2436d9fb",
   "metadata": {
    "execution": {
     "iopub.execute_input": "2023-07-09T10:20:23.633651Z",
     "iopub.status.busy": "2023-07-09T10:20:23.633179Z",
     "iopub.status.idle": "2023-07-09T10:20:23.646233Z",
     "shell.execute_reply": "2023-07-09T10:20:23.644911Z"
    },
    "papermill": {
     "duration": 0.045465,
     "end_time": "2023-07-09T10:20:23.648706",
     "exception": false,
     "start_time": "2023-07-09T10:20:23.603241",
     "status": "completed"
    },
    "tags": []
   },
   "outputs": [],
   "source": [
    "test_dataset.HomePlanet=le.fit_transform(test_dataset.HomePlanet)\n",
    "test_dataset.VIP=le.fit_transform(test_dataset.VIP)\n",
    "test_dataset.CryoSleep=le.fit_transform(test_dataset.CryoSleep)\n",
    "test_dataset.Destination=le.fit_transform(test_dataset.Destination)"
   ]
  },
  {
   "cell_type": "code",
   "execution_count": 44,
   "id": "753dedfd",
   "metadata": {
    "execution": {
     "iopub.execute_input": "2023-07-09T10:20:23.707256Z",
     "iopub.status.busy": "2023-07-09T10:20:23.706824Z",
     "iopub.status.idle": "2023-07-09T10:20:23.724189Z",
     "shell.execute_reply": "2023-07-09T10:20:23.722949Z"
    },
    "papermill": {
     "duration": 0.049482,
     "end_time": "2023-07-09T10:20:23.726536",
     "exception": false,
     "start_time": "2023-07-09T10:20:23.677054",
     "status": "completed"
    },
    "tags": []
   },
   "outputs": [],
   "source": [
    "test_dataset[['Cabin_deck','Cabin_num','Cabin_side']]=test_dataset['Cabin'].str.split(\"/\",expand=True)"
   ]
  },
  {
   "cell_type": "code",
   "execution_count": 45,
   "id": "8027e19d",
   "metadata": {
    "execution": {
     "iopub.execute_input": "2023-07-09T10:20:23.785966Z",
     "iopub.status.busy": "2023-07-09T10:20:23.785524Z",
     "iopub.status.idle": "2023-07-09T10:20:23.800880Z",
     "shell.execute_reply": "2023-07-09T10:20:23.799930Z"
    },
    "papermill": {
     "duration": 0.047511,
     "end_time": "2023-07-09T10:20:23.803020",
     "exception": false,
     "start_time": "2023-07-09T10:20:23.755509",
     "status": "completed"
    },
    "tags": []
   },
   "outputs": [],
   "source": [
    "test_dataset.Cabin_deck=le.fit_transform(test_dataset.Cabin_deck)\n",
    "test_dataset.Cabin_num=le.fit_transform(test_dataset.Cabin_num)\n",
    "test_dataset.Cabin_side=le.fit_transform(test_dataset.Cabin_side)"
   ]
  },
  {
   "cell_type": "code",
   "execution_count": 46,
   "id": "8757cb50",
   "metadata": {
    "execution": {
     "iopub.execute_input": "2023-07-09T10:20:23.861724Z",
     "iopub.status.busy": "2023-07-09T10:20:23.861284Z",
     "iopub.status.idle": "2023-07-09T10:20:23.879003Z",
     "shell.execute_reply": "2023-07-09T10:20:23.877825Z"
    },
    "papermill": {
     "duration": 0.049974,
     "end_time": "2023-07-09T10:20:23.881347",
     "exception": false,
     "start_time": "2023-07-09T10:20:23.831373",
     "status": "completed"
    },
    "tags": []
   },
   "outputs": [
    {
     "data": {
      "text/html": [
       "<div>\n",
       "<style scoped>\n",
       "    .dataframe tbody tr th:only-of-type {\n",
       "        vertical-align: middle;\n",
       "    }\n",
       "\n",
       "    .dataframe tbody tr th {\n",
       "        vertical-align: top;\n",
       "    }\n",
       "\n",
       "    .dataframe thead th {\n",
       "        text-align: right;\n",
       "    }\n",
       "</style>\n",
       "<table border=\"1\" class=\"dataframe\">\n",
       "  <thead>\n",
       "    <tr style=\"text-align: right;\">\n",
       "      <th></th>\n",
       "      <th>PassengerId</th>\n",
       "      <th>HomePlanet</th>\n",
       "      <th>CryoSleep</th>\n",
       "      <th>Cabin</th>\n",
       "      <th>Destination</th>\n",
       "      <th>Age</th>\n",
       "      <th>VIP</th>\n",
       "      <th>Name</th>\n",
       "      <th>totalexpense</th>\n",
       "      <th>Cabin_deck</th>\n",
       "      <th>Cabin_num</th>\n",
       "      <th>Cabin_side</th>\n",
       "    </tr>\n",
       "  </thead>\n",
       "  <tbody>\n",
       "    <tr>\n",
       "      <th>0</th>\n",
       "      <td>0013_01</td>\n",
       "      <td>0</td>\n",
       "      <td>1</td>\n",
       "      <td>G/3/S</td>\n",
       "      <td>2</td>\n",
       "      <td>27.0</td>\n",
       "      <td>0</td>\n",
       "      <td>Nelly Carsoning</td>\n",
       "      <td>0.0</td>\n",
       "      <td>7</td>\n",
       "      <td>820</td>\n",
       "      <td>1</td>\n",
       "    </tr>\n",
       "    <tr>\n",
       "      <th>1</th>\n",
       "      <td>0018_01</td>\n",
       "      <td>0</td>\n",
       "      <td>0</td>\n",
       "      <td>F/4/S</td>\n",
       "      <td>2</td>\n",
       "      <td>19.0</td>\n",
       "      <td>0</td>\n",
       "      <td>Lerome Peckers</td>\n",
       "      <td>2832.0</td>\n",
       "      <td>6</td>\n",
       "      <td>927</td>\n",
       "      <td>1</td>\n",
       "    </tr>\n",
       "    <tr>\n",
       "      <th>2</th>\n",
       "      <td>0019_01</td>\n",
       "      <td>1</td>\n",
       "      <td>1</td>\n",
       "      <td>C/0/S</td>\n",
       "      <td>0</td>\n",
       "      <td>31.0</td>\n",
       "      <td>0</td>\n",
       "      <td>Sabih Unhearfus</td>\n",
       "      <td>0.0</td>\n",
       "      <td>3</td>\n",
       "      <td>0</td>\n",
       "      <td>1</td>\n",
       "    </tr>\n",
       "    <tr>\n",
       "      <th>3</th>\n",
       "      <td>0021_01</td>\n",
       "      <td>1</td>\n",
       "      <td>0</td>\n",
       "      <td>C/1/S</td>\n",
       "      <td>2</td>\n",
       "      <td>38.0</td>\n",
       "      <td>0</td>\n",
       "      <td>Meratz Caltilter</td>\n",
       "      <td>7418.0</td>\n",
       "      <td>3</td>\n",
       "      <td>1</td>\n",
       "      <td>1</td>\n",
       "    </tr>\n",
       "    <tr>\n",
       "      <th>4</th>\n",
       "      <td>0023_01</td>\n",
       "      <td>0</td>\n",
       "      <td>0</td>\n",
       "      <td>F/5/S</td>\n",
       "      <td>2</td>\n",
       "      <td>20.0</td>\n",
       "      <td>0</td>\n",
       "      <td>Brence Harperez</td>\n",
       "      <td>645.0</td>\n",
       "      <td>6</td>\n",
       "      <td>1029</td>\n",
       "      <td>1</td>\n",
       "    </tr>\n",
       "  </tbody>\n",
       "</table>\n",
       "</div>"
      ],
      "text/plain": [
       "  PassengerId  HomePlanet  CryoSleep  Cabin  Destination   Age  VIP  \\\n",
       "0     0013_01           0          1  G/3/S            2  27.0    0   \n",
       "1     0018_01           0          0  F/4/S            2  19.0    0   \n",
       "2     0019_01           1          1  C/0/S            0  31.0    0   \n",
       "3     0021_01           1          0  C/1/S            2  38.0    0   \n",
       "4     0023_01           0          0  F/5/S            2  20.0    0   \n",
       "\n",
       "               Name  totalexpense  Cabin_deck  Cabin_num  Cabin_side  \n",
       "0   Nelly Carsoning           0.0           7        820           1  \n",
       "1    Lerome Peckers        2832.0           6        927           1  \n",
       "2   Sabih Unhearfus           0.0           3          0           1  \n",
       "3  Meratz Caltilter        7418.0           3          1           1  \n",
       "4   Brence Harperez         645.0           6       1029           1  "
      ]
     },
     "execution_count": 46,
     "metadata": {},
     "output_type": "execute_result"
    }
   ],
   "source": [
    "test_dataset.head()"
   ]
  },
  {
   "cell_type": "code",
   "execution_count": 47,
   "id": "942c9fff",
   "metadata": {
    "execution": {
     "iopub.execute_input": "2023-07-09T10:20:23.941080Z",
     "iopub.status.busy": "2023-07-09T10:20:23.940650Z",
     "iopub.status.idle": "2023-07-09T10:20:23.947437Z",
     "shell.execute_reply": "2023-07-09T10:20:23.946309Z"
    },
    "papermill": {
     "duration": 0.039947,
     "end_time": "2023-07-09T10:20:23.949791",
     "exception": false,
     "start_time": "2023-07-09T10:20:23.909844",
     "status": "completed"
    },
    "tags": []
   },
   "outputs": [],
   "source": [
    "X_test=test_dataset.drop(['PassengerId','Cabin','Name'], axis=1)"
   ]
  },
  {
   "cell_type": "code",
   "execution_count": 48,
   "id": "85ea4fc8",
   "metadata": {
    "execution": {
     "iopub.execute_input": "2023-07-09T10:20:24.009180Z",
     "iopub.status.busy": "2023-07-09T10:20:24.008740Z",
     "iopub.status.idle": "2023-07-09T10:20:24.114002Z",
     "shell.execute_reply": "2023-07-09T10:20:24.112802Z"
    },
    "papermill": {
     "duration": 0.138149,
     "end_time": "2023-07-09T10:20:24.116847",
     "exception": false,
     "start_time": "2023-07-09T10:20:23.978698",
     "status": "completed"
    },
    "tags": []
   },
   "outputs": [],
   "source": [
    "t_p=r.predict(X_test)"
   ]
  },
  {
   "cell_type": "code",
   "execution_count": 49,
   "id": "b1d594c9",
   "metadata": {
    "execution": {
     "iopub.execute_input": "2023-07-09T10:20:24.177734Z",
     "iopub.status.busy": "2023-07-09T10:20:24.177330Z",
     "iopub.status.idle": "2023-07-09T10:20:24.282075Z",
     "shell.execute_reply": "2023-07-09T10:20:24.280982Z"
    },
    "papermill": {
     "duration": 0.138446,
     "end_time": "2023-07-09T10:20:24.284783",
     "exception": false,
     "start_time": "2023-07-09T10:20:24.146337",
     "status": "completed"
    },
    "tags": []
   },
   "outputs": [],
   "source": [
    "test_dataset['Transported']=r.predict(X_test)"
   ]
  },
  {
   "cell_type": "code",
   "execution_count": 50,
   "id": "2c951b92",
   "metadata": {
    "execution": {
     "iopub.execute_input": "2023-07-09T10:20:24.344001Z",
     "iopub.status.busy": "2023-07-09T10:20:24.343562Z",
     "iopub.status.idle": "2023-07-09T10:20:24.361907Z",
     "shell.execute_reply": "2023-07-09T10:20:24.360673Z"
    },
    "papermill": {
     "duration": 0.050734,
     "end_time": "2023-07-09T10:20:24.364078",
     "exception": false,
     "start_time": "2023-07-09T10:20:24.313344",
     "status": "completed"
    },
    "tags": []
   },
   "outputs": [
    {
     "data": {
      "text/html": [
       "<div>\n",
       "<style scoped>\n",
       "    .dataframe tbody tr th:only-of-type {\n",
       "        vertical-align: middle;\n",
       "    }\n",
       "\n",
       "    .dataframe tbody tr th {\n",
       "        vertical-align: top;\n",
       "    }\n",
       "\n",
       "    .dataframe thead th {\n",
       "        text-align: right;\n",
       "    }\n",
       "</style>\n",
       "<table border=\"1\" class=\"dataframe\">\n",
       "  <thead>\n",
       "    <tr style=\"text-align: right;\">\n",
       "      <th></th>\n",
       "      <th>PassengerId</th>\n",
       "      <th>HomePlanet</th>\n",
       "      <th>CryoSleep</th>\n",
       "      <th>Cabin</th>\n",
       "      <th>Destination</th>\n",
       "      <th>Age</th>\n",
       "      <th>VIP</th>\n",
       "      <th>Name</th>\n",
       "      <th>totalexpense</th>\n",
       "      <th>Cabin_deck</th>\n",
       "      <th>Cabin_num</th>\n",
       "      <th>Cabin_side</th>\n",
       "      <th>Transported</th>\n",
       "    </tr>\n",
       "  </thead>\n",
       "  <tbody>\n",
       "    <tr>\n",
       "      <th>0</th>\n",
       "      <td>0013_01</td>\n",
       "      <td>0</td>\n",
       "      <td>1</td>\n",
       "      <td>G/3/S</td>\n",
       "      <td>2</td>\n",
       "      <td>27.0</td>\n",
       "      <td>0</td>\n",
       "      <td>Nelly Carsoning</td>\n",
       "      <td>0.0</td>\n",
       "      <td>7</td>\n",
       "      <td>820</td>\n",
       "      <td>1</td>\n",
       "      <td>1</td>\n",
       "    </tr>\n",
       "    <tr>\n",
       "      <th>1</th>\n",
       "      <td>0018_01</td>\n",
       "      <td>0</td>\n",
       "      <td>0</td>\n",
       "      <td>F/4/S</td>\n",
       "      <td>2</td>\n",
       "      <td>19.0</td>\n",
       "      <td>0</td>\n",
       "      <td>Lerome Peckers</td>\n",
       "      <td>2832.0</td>\n",
       "      <td>6</td>\n",
       "      <td>927</td>\n",
       "      <td>1</td>\n",
       "      <td>0</td>\n",
       "    </tr>\n",
       "    <tr>\n",
       "      <th>2</th>\n",
       "      <td>0019_01</td>\n",
       "      <td>1</td>\n",
       "      <td>1</td>\n",
       "      <td>C/0/S</td>\n",
       "      <td>0</td>\n",
       "      <td>31.0</td>\n",
       "      <td>0</td>\n",
       "      <td>Sabih Unhearfus</td>\n",
       "      <td>0.0</td>\n",
       "      <td>3</td>\n",
       "      <td>0</td>\n",
       "      <td>1</td>\n",
       "      <td>1</td>\n",
       "    </tr>\n",
       "    <tr>\n",
       "      <th>3</th>\n",
       "      <td>0021_01</td>\n",
       "      <td>1</td>\n",
       "      <td>0</td>\n",
       "      <td>C/1/S</td>\n",
       "      <td>2</td>\n",
       "      <td>38.0</td>\n",
       "      <td>0</td>\n",
       "      <td>Meratz Caltilter</td>\n",
       "      <td>7418.0</td>\n",
       "      <td>3</td>\n",
       "      <td>1</td>\n",
       "      <td>1</td>\n",
       "      <td>0</td>\n",
       "    </tr>\n",
       "    <tr>\n",
       "      <th>4</th>\n",
       "      <td>0023_01</td>\n",
       "      <td>0</td>\n",
       "      <td>0</td>\n",
       "      <td>F/5/S</td>\n",
       "      <td>2</td>\n",
       "      <td>20.0</td>\n",
       "      <td>0</td>\n",
       "      <td>Brence Harperez</td>\n",
       "      <td>645.0</td>\n",
       "      <td>6</td>\n",
       "      <td>1029</td>\n",
       "      <td>1</td>\n",
       "      <td>0</td>\n",
       "    </tr>\n",
       "  </tbody>\n",
       "</table>\n",
       "</div>"
      ],
      "text/plain": [
       "  PassengerId  HomePlanet  CryoSleep  Cabin  Destination   Age  VIP  \\\n",
       "0     0013_01           0          1  G/3/S            2  27.0    0   \n",
       "1     0018_01           0          0  F/4/S            2  19.0    0   \n",
       "2     0019_01           1          1  C/0/S            0  31.0    0   \n",
       "3     0021_01           1          0  C/1/S            2  38.0    0   \n",
       "4     0023_01           0          0  F/5/S            2  20.0    0   \n",
       "\n",
       "               Name  totalexpense  Cabin_deck  Cabin_num  Cabin_side  \\\n",
       "0   Nelly Carsoning           0.0           7        820           1   \n",
       "1    Lerome Peckers        2832.0           6        927           1   \n",
       "2   Sabih Unhearfus           0.0           3          0           1   \n",
       "3  Meratz Caltilter        7418.0           3          1           1   \n",
       "4   Brence Harperez         645.0           6       1029           1   \n",
       "\n",
       "   Transported  \n",
       "0            1  \n",
       "1            0  \n",
       "2            1  \n",
       "3            0  \n",
       "4            0  "
      ]
     },
     "execution_count": 50,
     "metadata": {},
     "output_type": "execute_result"
    }
   ],
   "source": [
    "test_dataset.head()"
   ]
  },
  {
   "cell_type": "code",
   "execution_count": 51,
   "id": "36f27cb5",
   "metadata": {
    "execution": {
     "iopub.execute_input": "2023-07-09T10:20:24.423488Z",
     "iopub.status.busy": "2023-07-09T10:20:24.423069Z",
     "iopub.status.idle": "2023-07-09T10:20:24.428644Z",
     "shell.execute_reply": "2023-07-09T10:20:24.427742Z"
    },
    "papermill": {
     "duration": 0.038105,
     "end_time": "2023-07-09T10:20:24.430869",
     "exception": false,
     "start_time": "2023-07-09T10:20:24.392764",
     "status": "completed"
    },
    "tags": []
   },
   "outputs": [],
   "source": [
    "test_dataset['Transported'] = test_dataset['Transported'].astype(float).astype(bool)"
   ]
  },
  {
   "cell_type": "code",
   "execution_count": 52,
   "id": "1edc0099",
   "metadata": {
    "execution": {
     "iopub.execute_input": "2023-07-09T10:20:24.490514Z",
     "iopub.status.busy": "2023-07-09T10:20:24.490100Z",
     "iopub.status.idle": "2023-07-09T10:20:24.507736Z",
     "shell.execute_reply": "2023-07-09T10:20:24.506617Z"
    },
    "papermill": {
     "duration": 0.050592,
     "end_time": "2023-07-09T10:20:24.510133",
     "exception": false,
     "start_time": "2023-07-09T10:20:24.459541",
     "status": "completed"
    },
    "tags": []
   },
   "outputs": [
    {
     "data": {
      "text/html": [
       "<div>\n",
       "<style scoped>\n",
       "    .dataframe tbody tr th:only-of-type {\n",
       "        vertical-align: middle;\n",
       "    }\n",
       "\n",
       "    .dataframe tbody tr th {\n",
       "        vertical-align: top;\n",
       "    }\n",
       "\n",
       "    .dataframe thead th {\n",
       "        text-align: right;\n",
       "    }\n",
       "</style>\n",
       "<table border=\"1\" class=\"dataframe\">\n",
       "  <thead>\n",
       "    <tr style=\"text-align: right;\">\n",
       "      <th></th>\n",
       "      <th>PassengerId</th>\n",
       "      <th>HomePlanet</th>\n",
       "      <th>CryoSleep</th>\n",
       "      <th>Cabin</th>\n",
       "      <th>Destination</th>\n",
       "      <th>Age</th>\n",
       "      <th>VIP</th>\n",
       "      <th>Name</th>\n",
       "      <th>totalexpense</th>\n",
       "      <th>Cabin_deck</th>\n",
       "      <th>Cabin_num</th>\n",
       "      <th>Cabin_side</th>\n",
       "      <th>Transported</th>\n",
       "    </tr>\n",
       "  </thead>\n",
       "  <tbody>\n",
       "    <tr>\n",
       "      <th>0</th>\n",
       "      <td>0013_01</td>\n",
       "      <td>0</td>\n",
       "      <td>1</td>\n",
       "      <td>G/3/S</td>\n",
       "      <td>2</td>\n",
       "      <td>27.0</td>\n",
       "      <td>0</td>\n",
       "      <td>Nelly Carsoning</td>\n",
       "      <td>0.0</td>\n",
       "      <td>7</td>\n",
       "      <td>820</td>\n",
       "      <td>1</td>\n",
       "      <td>True</td>\n",
       "    </tr>\n",
       "    <tr>\n",
       "      <th>1</th>\n",
       "      <td>0018_01</td>\n",
       "      <td>0</td>\n",
       "      <td>0</td>\n",
       "      <td>F/4/S</td>\n",
       "      <td>2</td>\n",
       "      <td>19.0</td>\n",
       "      <td>0</td>\n",
       "      <td>Lerome Peckers</td>\n",
       "      <td>2832.0</td>\n",
       "      <td>6</td>\n",
       "      <td>927</td>\n",
       "      <td>1</td>\n",
       "      <td>False</td>\n",
       "    </tr>\n",
       "    <tr>\n",
       "      <th>2</th>\n",
       "      <td>0019_01</td>\n",
       "      <td>1</td>\n",
       "      <td>1</td>\n",
       "      <td>C/0/S</td>\n",
       "      <td>0</td>\n",
       "      <td>31.0</td>\n",
       "      <td>0</td>\n",
       "      <td>Sabih Unhearfus</td>\n",
       "      <td>0.0</td>\n",
       "      <td>3</td>\n",
       "      <td>0</td>\n",
       "      <td>1</td>\n",
       "      <td>True</td>\n",
       "    </tr>\n",
       "    <tr>\n",
       "      <th>3</th>\n",
       "      <td>0021_01</td>\n",
       "      <td>1</td>\n",
       "      <td>0</td>\n",
       "      <td>C/1/S</td>\n",
       "      <td>2</td>\n",
       "      <td>38.0</td>\n",
       "      <td>0</td>\n",
       "      <td>Meratz Caltilter</td>\n",
       "      <td>7418.0</td>\n",
       "      <td>3</td>\n",
       "      <td>1</td>\n",
       "      <td>1</td>\n",
       "      <td>False</td>\n",
       "    </tr>\n",
       "    <tr>\n",
       "      <th>4</th>\n",
       "      <td>0023_01</td>\n",
       "      <td>0</td>\n",
       "      <td>0</td>\n",
       "      <td>F/5/S</td>\n",
       "      <td>2</td>\n",
       "      <td>20.0</td>\n",
       "      <td>0</td>\n",
       "      <td>Brence Harperez</td>\n",
       "      <td>645.0</td>\n",
       "      <td>6</td>\n",
       "      <td>1029</td>\n",
       "      <td>1</td>\n",
       "      <td>False</td>\n",
       "    </tr>\n",
       "  </tbody>\n",
       "</table>\n",
       "</div>"
      ],
      "text/plain": [
       "  PassengerId  HomePlanet  CryoSleep  Cabin  Destination   Age  VIP  \\\n",
       "0     0013_01           0          1  G/3/S            2  27.0    0   \n",
       "1     0018_01           0          0  F/4/S            2  19.0    0   \n",
       "2     0019_01           1          1  C/0/S            0  31.0    0   \n",
       "3     0021_01           1          0  C/1/S            2  38.0    0   \n",
       "4     0023_01           0          0  F/5/S            2  20.0    0   \n",
       "\n",
       "               Name  totalexpense  Cabin_deck  Cabin_num  Cabin_side  \\\n",
       "0   Nelly Carsoning           0.0           7        820           1   \n",
       "1    Lerome Peckers        2832.0           6        927           1   \n",
       "2   Sabih Unhearfus           0.0           3          0           1   \n",
       "3  Meratz Caltilter        7418.0           3          1           1   \n",
       "4   Brence Harperez         645.0           6       1029           1   \n",
       "\n",
       "   Transported  \n",
       "0         True  \n",
       "1        False  \n",
       "2         True  \n",
       "3        False  \n",
       "4        False  "
      ]
     },
     "execution_count": 52,
     "metadata": {},
     "output_type": "execute_result"
    }
   ],
   "source": [
    "test_dataset.head()"
   ]
  },
  {
   "cell_type": "code",
   "execution_count": 53,
   "id": "9065715e",
   "metadata": {
    "execution": {
     "iopub.execute_input": "2023-07-09T10:20:24.570497Z",
     "iopub.status.busy": "2023-07-09T10:20:24.570050Z",
     "iopub.status.idle": "2023-07-09T10:20:24.584093Z",
     "shell.execute_reply": "2023-07-09T10:20:24.582950Z"
    },
    "papermill": {
     "duration": 0.047542,
     "end_time": "2023-07-09T10:20:24.586830",
     "exception": false,
     "start_time": "2023-07-09T10:20:24.539288",
     "status": "completed"
    },
    "tags": []
   },
   "outputs": [
    {
     "data": {
      "text/html": [
       "<div>\n",
       "<style scoped>\n",
       "    .dataframe tbody tr th:only-of-type {\n",
       "        vertical-align: middle;\n",
       "    }\n",
       "\n",
       "    .dataframe tbody tr th {\n",
       "        vertical-align: top;\n",
       "    }\n",
       "\n",
       "    .dataframe thead th {\n",
       "        text-align: right;\n",
       "    }\n",
       "</style>\n",
       "<table border=\"1\" class=\"dataframe\">\n",
       "  <thead>\n",
       "    <tr style=\"text-align: right;\">\n",
       "      <th></th>\n",
       "      <th>PassengerId</th>\n",
       "      <th>Transported</th>\n",
       "    </tr>\n",
       "  </thead>\n",
       "  <tbody>\n",
       "    <tr>\n",
       "      <th>0</th>\n",
       "      <td>0013_01</td>\n",
       "      <td>True</td>\n",
       "    </tr>\n",
       "    <tr>\n",
       "      <th>1</th>\n",
       "      <td>0018_01</td>\n",
       "      <td>False</td>\n",
       "    </tr>\n",
       "    <tr>\n",
       "      <th>2</th>\n",
       "      <td>0019_01</td>\n",
       "      <td>True</td>\n",
       "    </tr>\n",
       "    <tr>\n",
       "      <th>3</th>\n",
       "      <td>0021_01</td>\n",
       "      <td>False</td>\n",
       "    </tr>\n",
       "    <tr>\n",
       "      <th>4</th>\n",
       "      <td>0023_01</td>\n",
       "      <td>False</td>\n",
       "    </tr>\n",
       "  </tbody>\n",
       "</table>\n",
       "</div>"
      ],
      "text/plain": [
       "  PassengerId  Transported\n",
       "0     0013_01         True\n",
       "1     0018_01        False\n",
       "2     0019_01         True\n",
       "3     0021_01        False\n",
       "4     0023_01        False"
      ]
     },
     "execution_count": 53,
     "metadata": {},
     "output_type": "execute_result"
    }
   ],
   "source": [
    "submission =test_dataset.copy()\n",
    "submission = submission.drop(['HomePlanet','CryoSleep','Cabin','Destination','Age','VIP','Name','totalexpense','Cabin_deck','Cabin_num','Cabin_side'],axis=1)\n",
    "submission.reset_index(drop=True, inplace=True)\n",
    "submission.head()"
   ]
  },
  {
   "cell_type": "code",
   "execution_count": 54,
   "id": "cc135a88",
   "metadata": {
    "execution": {
     "iopub.execute_input": "2023-07-09T10:20:24.649964Z",
     "iopub.status.busy": "2023-07-09T10:20:24.649146Z",
     "iopub.status.idle": "2023-07-09T10:20:24.670740Z",
     "shell.execute_reply": "2023-07-09T10:20:24.669901Z"
    },
    "papermill": {
     "duration": 0.056254,
     "end_time": "2023-07-09T10:20:24.673325",
     "exception": false,
     "start_time": "2023-07-09T10:20:24.617071",
     "status": "completed"
    },
    "tags": []
   },
   "outputs": [],
   "source": [
    "submission.to_csv('submission.csv',index=False)"
   ]
  },
  {
   "cell_type": "code",
   "execution_count": 55,
   "id": "929a72af",
   "metadata": {
    "execution": {
     "iopub.execute_input": "2023-07-09T10:20:24.734886Z",
     "iopub.status.busy": "2023-07-09T10:20:24.734170Z",
     "iopub.status.idle": "2023-07-09T10:20:24.743606Z",
     "shell.execute_reply": "2023-07-09T10:20:24.742433Z"
    },
    "papermill": {
     "duration": 0.042766,
     "end_time": "2023-07-09T10:20:24.746144",
     "exception": false,
     "start_time": "2023-07-09T10:20:24.703378",
     "status": "completed"
    },
    "tags": []
   },
   "outputs": [],
   "source": [
    "examp=pd.read_csv(\"/kaggle/working/submission.csv\")"
   ]
  },
  {
   "cell_type": "code",
   "execution_count": 56,
   "id": "681bd95e",
   "metadata": {
    "execution": {
     "iopub.execute_input": "2023-07-09T10:20:24.816425Z",
     "iopub.status.busy": "2023-07-09T10:20:24.815339Z",
     "iopub.status.idle": "2023-07-09T10:20:24.830378Z",
     "shell.execute_reply": "2023-07-09T10:20:24.828668Z"
    },
    "papermill": {
     "duration": 0.057835,
     "end_time": "2023-07-09T10:20:24.833535",
     "exception": false,
     "start_time": "2023-07-09T10:20:24.775700",
     "status": "completed"
    },
    "tags": []
   },
   "outputs": [
    {
     "data": {
      "text/html": [
       "<div>\n",
       "<style scoped>\n",
       "    .dataframe tbody tr th:only-of-type {\n",
       "        vertical-align: middle;\n",
       "    }\n",
       "\n",
       "    .dataframe tbody tr th {\n",
       "        vertical-align: top;\n",
       "    }\n",
       "\n",
       "    .dataframe thead th {\n",
       "        text-align: right;\n",
       "    }\n",
       "</style>\n",
       "<table border=\"1\" class=\"dataframe\">\n",
       "  <thead>\n",
       "    <tr style=\"text-align: right;\">\n",
       "      <th></th>\n",
       "      <th>PassengerId</th>\n",
       "      <th>Transported</th>\n",
       "    </tr>\n",
       "  </thead>\n",
       "  <tbody>\n",
       "    <tr>\n",
       "      <th>0</th>\n",
       "      <td>0013_01</td>\n",
       "      <td>True</td>\n",
       "    </tr>\n",
       "    <tr>\n",
       "      <th>1</th>\n",
       "      <td>0018_01</td>\n",
       "      <td>False</td>\n",
       "    </tr>\n",
       "    <tr>\n",
       "      <th>2</th>\n",
       "      <td>0019_01</td>\n",
       "      <td>True</td>\n",
       "    </tr>\n",
       "    <tr>\n",
       "      <th>3</th>\n",
       "      <td>0021_01</td>\n",
       "      <td>False</td>\n",
       "    </tr>\n",
       "    <tr>\n",
       "      <th>4</th>\n",
       "      <td>0023_01</td>\n",
       "      <td>False</td>\n",
       "    </tr>\n",
       "  </tbody>\n",
       "</table>\n",
       "</div>"
      ],
      "text/plain": [
       "  PassengerId  Transported\n",
       "0     0013_01         True\n",
       "1     0018_01        False\n",
       "2     0019_01         True\n",
       "3     0021_01        False\n",
       "4     0023_01        False"
      ]
     },
     "execution_count": 56,
     "metadata": {},
     "output_type": "execute_result"
    }
   ],
   "source": [
    "examp.head()"
   ]
  }
 ],
 "metadata": {
  "kernelspec": {
   "display_name": "Python 3",
   "language": "python",
   "name": "python3"
  },
  "language_info": {
   "codemirror_mode": {
    "name": "ipython",
    "version": 3
   },
   "file_extension": ".py",
   "mimetype": "text/x-python",
   "name": "python",
   "nbconvert_exporter": "python",
   "pygments_lexer": "ipython3",
   "version": "3.10.10"
  },
  "papermill": {
   "default_parameters": {},
   "duration": 30.697145,
   "end_time": "2023-07-09T10:20:26.095199",
   "environment_variables": {},
   "exception": null,
   "input_path": "__notebook__.ipynb",
   "output_path": "__notebook__.ipynb",
   "parameters": {},
   "start_time": "2023-07-09T10:19:55.398054",
   "version": "2.4.0"
  }
 },
 "nbformat": 4,
 "nbformat_minor": 5
}
